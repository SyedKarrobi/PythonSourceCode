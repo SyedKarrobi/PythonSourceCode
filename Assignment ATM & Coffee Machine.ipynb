{
 "cells": [
  {
   "cell_type": "code",
   "execution_count": 4,
   "id": "3d15008e-ef0a-4196-bb00-f4f60f52e531",
   "metadata": {},
   "outputs": [
    {
     "name": "stdout",
     "output_type": "stream",
     "text": [
      "0. Exit\n",
      "1. Default Balance\n",
      "2. Withdraw\n",
      "3. Deposit\n"
     ]
    },
    {
     "name": "stdin",
     "output_type": "stream",
     "text": [
      "PLease select any option 4\n"
     ]
    }
   ],
   "source": [
    "choice=['Exit','Balance','Withdraw','Deposit']\n",
    "Deposit_Amount=0\n",
    "Withdraw_amount=0\n",
    "Default_Balance=100000\n",
    "def Atm_machine(choice):\n",
    "    Default_Balance=100000\n",
    "    if choice==0:\n",
    "        print ('Exit')\n",
    "    elif choice==1:\n",
    "        print ('Default_Balance= ',Default_Balance)\n",
    "    elif choice==3:\n",
    "        Deposit=int(input(\"enter a positive amount= \"))\n",
    "        if Deposit >= 0:\n",
    "            Deposit_amount= Deposit+Default_Balance\n",
    "            print(\"Deposit Success, Your remaining balance is\",Deposit_amount)\n",
    "        else:\n",
    "            print(\"NONE OF YOUR BUSINESS\")\n",
    "    elif choice==2:\n",
    "        Withdraw=int(input(\"enter the amount to withdraw= \"))\n",
    "        if Withdraw <= Default_Balance:\n",
    "            Withdraw_amount=  Default_Balance-Withdraw\n",
    "            print(\"withdraw Success, Your remaining balance is\",Withdraw_amount)\n",
    "        else: \n",
    "            print(\"Insufficient funds\")\n",
    "        return    \n",
    "print('0. Exit')\n",
    "print('1. Default Balance')\n",
    "print('2. Withdraw')\n",
    "print('3. Deposit')\n",
    "choice=int(input('PLease select any option'))\n",
    "Atm_machine(choice)"
   ]
  },
  {
   "cell_type": "code",
   "execution_count": 7,
   "id": "69d78bb6-d116-44cc-9043-1174c89b4d47",
   "metadata": {},
   "outputs": [
    {
     "name": "stdin",
     "output_type": "stream",
     "text": [
      "What would you like? (espresso/latte/cappucino):  espresso\n",
      "how many quarters?  10\n",
      "how many dimes?  0\n",
      "how many nickles?  0\n",
      "how many pennies?  0\n"
     ]
    },
    {
     "name": "stdout",
     "output_type": "stream",
     "text": [
      "Here is 0.5 in change\n",
      "Here is yourespresso coffee\n"
     ]
    },
    {
     "name": "stdin",
     "output_type": "stream",
     "text": [
      "What would you like? (espresso/latte/cappucino):  latte\n",
      "how many quarters?  10\n",
      "how many dimes?  0\n",
      "how many nickles?  0\n",
      "how many pennies?  0\n"
     ]
    },
    {
     "name": "stdout",
     "output_type": "stream",
     "text": [
      "Here is 0.0 in change\n",
      "Here is yourlatte coffee\n"
     ]
    },
    {
     "name": "stdin",
     "output_type": "stream",
     "text": [
      "What would you like? (espresso/latte/cappucino):  report\n"
     ]
    },
    {
     "name": "stdout",
     "output_type": "stream",
     "text": [
      "Water: 400ml\n",
      "Milk: 500ml\n",
      "coffee: 500gm\n",
      "Money: $4.5\n"
     ]
    },
    {
     "ename": "KeyboardInterrupt",
     "evalue": "Interrupted by user",
     "output_type": "error",
     "traceback": [
      "\u001b[1;31m---------------------------------------------------------------------------\u001b[0m",
      "\u001b[1;31mKeyboardInterrupt\u001b[0m                         Traceback (most recent call last)",
      "Cell \u001b[1;32mIn[7], line 39\u001b[0m\n\u001b[0;32m     37\u001b[0m On \u001b[38;5;241m=\u001b[39m \u001b[38;5;28;01mTrue\u001b[39;00m\n\u001b[0;32m     38\u001b[0m \u001b[38;5;28;01mwhile\u001b[39;00m On:\n\u001b[1;32m---> 39\u001b[0m     user_input\u001b[38;5;241m=\u001b[39m\u001b[38;5;28minput\u001b[39m(\u001b[38;5;124m\"\u001b[39m\u001b[38;5;124mWhat would you like? (espresso/latte/cappucino): \u001b[39m\u001b[38;5;124m\"\u001b[39m)\n\u001b[0;32m     40\u001b[0m     \u001b[38;5;28;01mif\u001b[39;00m user_input\u001b[38;5;241m==\u001b[39m\u001b[38;5;124m'\u001b[39m\u001b[38;5;124moff\u001b[39m\u001b[38;5;124m'\u001b[39m:\n\u001b[0;32m     41\u001b[0m         On \u001b[38;5;241m=\u001b[39m \u001b[38;5;28;01mFalse\u001b[39;00m\n",
      "File \u001b[1;32m~\\anaconda3\\Lib\\site-packages\\ipykernel\\kernelbase.py:1262\u001b[0m, in \u001b[0;36mKernel.raw_input\u001b[1;34m(self, prompt)\u001b[0m\n\u001b[0;32m   1260\u001b[0m     msg \u001b[38;5;241m=\u001b[39m \u001b[38;5;124m\"\u001b[39m\u001b[38;5;124mraw_input was called, but this frontend does not support input requests.\u001b[39m\u001b[38;5;124m\"\u001b[39m\n\u001b[0;32m   1261\u001b[0m     \u001b[38;5;28;01mraise\u001b[39;00m StdinNotImplementedError(msg)\n\u001b[1;32m-> 1262\u001b[0m \u001b[38;5;28;01mreturn\u001b[39;00m \u001b[38;5;28mself\u001b[39m\u001b[38;5;241m.\u001b[39m_input_request(\n\u001b[0;32m   1263\u001b[0m     \u001b[38;5;28mstr\u001b[39m(prompt),\n\u001b[0;32m   1264\u001b[0m     \u001b[38;5;28mself\u001b[39m\u001b[38;5;241m.\u001b[39m_parent_ident[\u001b[38;5;124m\"\u001b[39m\u001b[38;5;124mshell\u001b[39m\u001b[38;5;124m\"\u001b[39m],\n\u001b[0;32m   1265\u001b[0m     \u001b[38;5;28mself\u001b[39m\u001b[38;5;241m.\u001b[39mget_parent(\u001b[38;5;124m\"\u001b[39m\u001b[38;5;124mshell\u001b[39m\u001b[38;5;124m\"\u001b[39m),\n\u001b[0;32m   1266\u001b[0m     password\u001b[38;5;241m=\u001b[39m\u001b[38;5;28;01mFalse\u001b[39;00m,\n\u001b[0;32m   1267\u001b[0m )\n",
      "File \u001b[1;32m~\\anaconda3\\Lib\\site-packages\\ipykernel\\kernelbase.py:1305\u001b[0m, in \u001b[0;36mKernel._input_request\u001b[1;34m(self, prompt, ident, parent, password)\u001b[0m\n\u001b[0;32m   1302\u001b[0m \u001b[38;5;28;01mexcept\u001b[39;00m \u001b[38;5;167;01mKeyboardInterrupt\u001b[39;00m:\n\u001b[0;32m   1303\u001b[0m     \u001b[38;5;66;03m# re-raise KeyboardInterrupt, to truncate traceback\u001b[39;00m\n\u001b[0;32m   1304\u001b[0m     msg \u001b[38;5;241m=\u001b[39m \u001b[38;5;124m\"\u001b[39m\u001b[38;5;124mInterrupted by user\u001b[39m\u001b[38;5;124m\"\u001b[39m\n\u001b[1;32m-> 1305\u001b[0m     \u001b[38;5;28;01mraise\u001b[39;00m \u001b[38;5;167;01mKeyboardInterrupt\u001b[39;00m(msg) \u001b[38;5;28;01mfrom\u001b[39;00m \u001b[38;5;28;01mNone\u001b[39;00m\n\u001b[0;32m   1306\u001b[0m \u001b[38;5;28;01mexcept\u001b[39;00m \u001b[38;5;167;01mException\u001b[39;00m:\n\u001b[0;32m   1307\u001b[0m     \u001b[38;5;28mself\u001b[39m\u001b[38;5;241m.\u001b[39mlog\u001b[38;5;241m.\u001b[39mwarning(\u001b[38;5;124m\"\u001b[39m\u001b[38;5;124mInvalid Message:\u001b[39m\u001b[38;5;124m\"\u001b[39m, exc_info\u001b[38;5;241m=\u001b[39m\u001b[38;5;28;01mTrue\u001b[39;00m)\n",
      "\u001b[1;31mKeyboardInterrupt\u001b[0m: Interrupted by user"
     ]
    }
   ],
   "source": [
    "Ingredient={\"espresso\":{'Water':50,'coffee':20,'Money':2},\n",
    "    \"latte\":{'Water':100,'Milk':50,'coffee':30,'Money':2.5},\n",
    "    \"cappucino\":{'Water':150,'Milk':50,'coffee':76,'Money':3.5}}\n",
    "profit=0\n",
    "resources={'Water':550,'Milk':550,'coffee':550,'Money':0}\n",
    "def check_resources_sufficient(user_input):\n",
    "    for i in user_input:\n",
    "        if i !='Money':\n",
    "            if user_input[i] >= resources[i]:\n",
    "                print(f'Sorry there is not enough {i}')\n",
    "                return False\n",
    "    return True\n",
    "\n",
    "def process_coin():\n",
    "    total = int(input('how many quarters? '))*0.25\n",
    "    total += int(input('how many dimes? '))*0.10\n",
    "    total += int(input('how many nickles? '))*0.05\n",
    "    total += int(input('how many pennies? '))*0.01\n",
    "    return total\n",
    "def is_transaction_ok(money_received,drink_cost):\n",
    "    if money_received >= drink_cost:\n",
    "        change= round(money_received-drink_cost,2)\n",
    "        print(f'Here is {change} in change')\n",
    "        global profit\n",
    "        profit+= drink_cost\n",
    "        resources['Money']=profit\n",
    "        return True\n",
    "    else:\n",
    "        print('sorry thats not enough money.Money refunded.')\n",
    "    return False\n",
    "\n",
    "def get_coffee(name,Ingredients):\n",
    "    for i in Ingredients:\n",
    "        if i !='Money':\n",
    "            resources[i] -= Ingredients[i]\n",
    "    print(f'Here is your{user_input} coffee')\n",
    "On = True\n",
    "while On:\n",
    "    user_input=input(\"What would you like? (espresso/latte/cappucino): \")\n",
    "    if user_input=='off':\n",
    "        On = False\n",
    "    elif user_input == 'report':\n",
    "        print(f'Water: {resources['Water']}ml'),\n",
    "        print(f'Milk: {resources['Milk']}ml'),\n",
    "        print(f'coffee: {resources['coffee']}gm'),\n",
    "        print(f'Money: ${resources['Money']}')\n",
    "    else:\n",
    "        drink = Ingredient[user_input]\n",
    "        if check_resources_sufficient(Ingredient[user_input]):\n",
    "            pay = process_coin()\n",
    "            if is_transaction_ok(pay, drink['Money']):\n",
    "                get_coffee(user_input, drink)"
   ]
  },
  {
   "cell_type": "code",
   "execution_count": 29,
   "id": "af7d6d33-37a2-439b-9af2-23c4898bd0fb",
   "metadata": {},
   "outputs": [
    {
     "name": "stdout",
     "output_type": "stream",
     "text": [
      "0. Exit\n",
      "1. Default Balance\n",
      "2. Withdraw\n",
      "3. Deposit\n"
     ]
    },
    {
     "ename": "ValueError",
     "evalue": "invalid literal for int() with base 10: 'espresso'",
     "output_type": "error",
     "traceback": [
      "\u001b[1;31m---------------------------------------------------------------------------\u001b[0m",
      "\u001b[1;31mValueError\u001b[0m                                Traceback (most recent call last)",
      "Cell \u001b[1;32mIn[29], line 35\u001b[0m\n\u001b[0;32m     31\u001b[0m \u001b[38;5;28mprint\u001b[39m(\u001b[38;5;124m'\u001b[39m\u001b[38;5;124m3. Deposit\u001b[39m\u001b[38;5;124m'\u001b[39m)\n\u001b[0;32m     34\u001b[0m \u001b[38;5;28;01mwhile\u001b[39;00m On:\n\u001b[1;32m---> 35\u001b[0m     choice\u001b[38;5;241m=\u001b[39m\u001b[38;5;28mint\u001b[39m(\u001b[38;5;28minput\u001b[39m(\u001b[38;5;124m'\u001b[39m\u001b[38;5;124mPLease select any option\u001b[39m\u001b[38;5;124m'\u001b[39m))\n\u001b[0;32m     36\u001b[0m     \u001b[38;5;28;01mif\u001b[39;00m choice\u001b[38;5;241m==\u001b[39m\u001b[38;5;241m0\u001b[39m:\n\u001b[0;32m     37\u001b[0m         \u001b[38;5;28mprint\u001b[39m (\u001b[38;5;124m'\u001b[39m\u001b[38;5;124mExit\u001b[39m\u001b[38;5;124m'\u001b[39m)\n",
      "\u001b[1;31mValueError\u001b[0m: invalid literal for int() with base 10: 'espresso'"
     ]
    }
   ],
   "source": [
    "On = True\n",
    "choice=['Exit','Balance','Withdraw','Deposit']\n",
    "Deposit_Amount=0\n",
    "Withdraw_amount=0\n",
    "Default_Balance=100000\n",
    "def Atm_machine(choice):\n",
    "    Default_Balance=100000\n",
    "    if choice==0:\n",
    "        print ('Exit')\n",
    "        On=False\n",
    "    elif choice==1:\n",
    "        print ('Default_Balance= ',Default_Balance)\n",
    "    elif choice==3:\n",
    "        Deposit=int(input(\"enter a positive amount= \"))\n",
    "        if Deposit >= 0:\n",
    "            Deposit_amount= Deposit+Default_Balance\n",
    "            print(\"Deposit Success, Your remaining balance is\",Deposit_amount)\n",
    "        else:\n",
    "            print(\"NONE OF YOUR BUSINESS\")\n",
    "    elif choice==2:\n",
    "        Withdraw=int(input(\"enter the amount to withdraw= \"))\n",
    "        if Withdraw <= Default_Balance:\n",
    "            Withdraw_amount=  Default_Balance-Withdraw\n",
    "            print(\"withdraw Success, Your remaining balance is\",Withdraw_amount)\n",
    "        else: \n",
    "            print(\"Insufficient funds\")\n",
    "        return    \n",
    "print('0. Exit')\n",
    "print('1. Default Balance')\n",
    "print('2. Withdraw')\n",
    "print('3. Deposit')\n",
    "\n",
    "\n",
    "while On:\n",
    "    choice=int(input('PLease select any option'))\n",
    "    if choice==0:\n",
    "        print ('Exit')\n",
    "        On=False\n",
    "    else:\n",
    "        Atm_machine(choice)"
   ]
  },
  {
   "cell_type": "code",
   "execution_count": null,
   "id": "4fa16f79-5495-4882-8d5b-a5f5069b72bc",
   "metadata": {},
   "outputs": [],
   "source": []
  }
 ],
 "metadata": {
  "kernelspec": {
   "display_name": "Python 3 (ipykernel)",
   "language": "python",
   "name": "python3"
  },
  "language_info": {
   "codemirror_mode": {
    "name": "ipython",
    "version": 3
   },
   "file_extension": ".py",
   "mimetype": "text/x-python",
   "name": "python",
   "nbconvert_exporter": "python",
   "pygments_lexer": "ipython3",
   "version": "3.12.4"
  }
 },
 "nbformat": 4,
 "nbformat_minor": 5
}
