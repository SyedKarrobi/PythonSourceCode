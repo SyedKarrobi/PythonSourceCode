{
 "cells": [
  {
   "cell_type": "code",
   "execution_count": 19,
   "id": "72189877-69e0-417b-a8c5-fe42b3549978",
   "metadata": {},
   "outputs": [
    {
     "name": "stdin",
     "output_type": "stream",
     "text": [
      "Enter Your Number 90\n",
      "Enter Your Number 70\n"
     ]
    },
    {
     "name": "stdout",
     "output_type": "stream",
     "text": [
      "160.0\n",
      "20.0\n",
      "6300.0\n",
      "1.29\n"
     ]
    }
   ],
   "source": [
    "def sum(num1,num2):\n",
    "    return num1+num2\n",
    "def sub(num1,num2):\n",
    "    return num1-num2\n",
    "def mul(num1,num2):\n",
    "    return num1*num2\n",
    "def div_no(num1,num2):\n",
    "    return round(num1/num2,2)\n",
    "num1=float(input(\"Enter Your Number\"))\n",
    "num2=float(input(\"Enter Your Number\"))\n",
    "print(sum(num1,num2))\n",
    "print(sub(num1,num2))\n",
    "print(mul(num1,num2))\n",
    "print(div_no(num1,num2))"
   ]
  },
  {
   "cell_type": "code",
   "execution_count": 21,
   "id": "3611458e-9c33-4f09-a36f-d5f6d0cf2964",
   "metadata": {},
   "outputs": [],
   "source": [
    "#variable scope (person called and responded by his name) either present in local or global\n",
    "#if its not present locally or globally how you supposed to call?\n",
    "#Scope of variable:"
   ]
  },
  {
   "cell_type": "markdown",
   "id": "4553ddda-cdd1-47f6-8c81-cd3037b58fce",
   "metadata": {},
   "source": [
    "## SCOPE OF A VARIABLE"
   ]
  },
  {
   "cell_type": "code",
   "execution_count": 24,
   "id": "6ad1cc5c-c1f8-43c9-8855-cae5b83d5330",
   "metadata": {},
   "outputs": [
    {
     "name": "stdout",
     "output_type": "stream",
     "text": [
      "5\n",
      "6\n",
      "5\n"
     ]
    }
   ],
   "source": [
    "def g(y):\n",
    "    print(x)\n",
    "    print(x+1)\n",
    "x=5\n",
    "g(x)\n",
    "print(x)"
   ]
  },
  {
   "cell_type": "code",
   "execution_count": 26,
   "id": "418066f7-5010-46c4-b94e-e0b3f94c3bb4",
   "metadata": {},
   "outputs": [
    {
     "name": "stdout",
     "output_type": "stream",
     "text": [
      "2\n",
      "5\n"
     ]
    }
   ],
   "source": [
    "def f(y):\n",
    "    x=1\n",
    "    x+=1\n",
    "    print(x)\n",
    "x=5\n",
    "f(x)\n",
    "print(x)"
   ]
  },
  {
   "cell_type": "code",
   "execution_count": 1,
   "id": "4f47bb90-420a-4c91-926d-e2658e085982",
   "metadata": {},
   "outputs": [
    {
     "ename": "UnboundLocalError",
     "evalue": "cannot access local variable 'x' where it is not associated with a value",
     "output_type": "error",
     "traceback": [
      "\u001b[1;31m---------------------------------------------------------------------------\u001b[0m",
      "\u001b[1;31mUnboundLocalError\u001b[0m                         Traceback (most recent call last)",
      "Cell \u001b[1;32mIn[1], line 4\u001b[0m\n\u001b[0;32m      2\u001b[0m     x\u001b[38;5;241m+\u001b[39m\u001b[38;5;241m=\u001b[39m\u001b[38;5;241m1\u001b[39m\n\u001b[0;32m      3\u001b[0m x\u001b[38;5;241m=\u001b[39m\u001b[38;5;241m5\u001b[39m\n\u001b[1;32m----> 4\u001b[0m h(x)\n\u001b[0;32m      5\u001b[0m \u001b[38;5;28mprint\u001b[39m(x)\n",
      "Cell \u001b[1;32mIn[1], line 2\u001b[0m, in \u001b[0;36mh\u001b[1;34m(y)\u001b[0m\n\u001b[0;32m      1\u001b[0m \u001b[38;5;28;01mdef\u001b[39;00m \u001b[38;5;21mh\u001b[39m(y):\n\u001b[1;32m----> 2\u001b[0m     x\u001b[38;5;241m+\u001b[39m\u001b[38;5;241m=\u001b[39m\u001b[38;5;241m1\u001b[39m\n",
      "\u001b[1;31mUnboundLocalError\u001b[0m: cannot access local variable 'x' where it is not associated with a value"
     ]
    }
   ],
   "source": [
    "def h(y):\n",
    "    x+=1\n",
    "x=5\n",
    "h(x)\n",
    "print(x)"
   ]
  },
  {
   "cell_type": "code",
   "execution_count": 5,
   "id": "892360c5-4b5f-497a-9eae-8a92ebbf596a",
   "metadata": {},
   "outputs": [
    {
     "name": "stdout",
     "output_type": "stream",
     "text": [
      "def f(x)= 4\n",
      "z= 4\n",
      "x= 3\n"
     ]
    }
   ],
   "source": [
    "def f(x):\n",
    "    x=x+1\n",
    "    print('def f(x)=',x)\n",
    "    return x\n",
    "\n",
    "x=3\n",
    "z=f(x)\n",
    "print('z=',z)\n",
    "print('x=',x)"
   ]
  },
  {
   "cell_type": "code",
   "execution_count": 7,
   "id": "7b5a52bd-45f1-4c55-a1d0-7bd016ee6d32",
   "metadata": {},
   "outputs": [
    {
     "name": "stdout",
     "output_type": "stream",
     "text": [
      "Hello fun 1\n",
      "Hello fun 2\n"
     ]
    }
   ],
   "source": [
    "#Nested Function\n",
    "def fun1():\n",
    "    print(\"Hello fun 1\")\n",
    "    def fun2():\n",
    "        print(\"Hello fun 2\")\n",
    "    fun2()\n",
    "\n",
    "fun1()"
   ]
  },
  {
   "cell_type": "code",
   "execution_count": 13,
   "id": "b2c283b7-7019-4e8e-8633-a7a5927ff577",
   "metadata": {},
   "outputs": [
    {
     "name": "stdout",
     "output_type": "stream",
     "text": [
      "<function num1.<locals>.num2 at 0x0000025FA3B67100>\n",
      "50\n"
     ]
    }
   ],
   "source": [
    "def num1(x):\n",
    "    def num2(y):\n",
    "        return x*y\n",
    "    return num2\n",
    "\n",
    "res=num1(10)\n",
    "print(res)\n",
    "print(res(5))"
   ]
  },
  {
   "cell_type": "code",
   "execution_count": 37,
   "id": "7fbd9ba7-d87a-4c34-87aa-fc6fda22e0db",
   "metadata": {},
   "outputs": [
    {
     "name": "stdout",
     "output_type": "stream",
     "text": [
      "<function pow_1.<locals>.pow_2 at 0x0000025FA084E660>\n",
      "125\n"
     ]
    }
   ],
   "source": [
    "def pow_1(h):\n",
    "    def pow_2(i):\n",
    "        def pow_3(j):\n",
    "            return h*i*j\n",
    "        return pow_3\n",
    "    return pow_2\n",
    "\n",
    "power=pow_1(5)\n",
    "mal=power(5)\n",
    "print(power)\n",
    "print(mal(5))\n",
    "    "
   ]
  },
  {
   "cell_type": "code",
   "execution_count": 43,
   "id": "7a708cd5-d027-4271-b96e-bd18bf89e581",
   "metadata": {},
   "outputs": [
    {
     "name": "stdout",
     "output_type": "stream",
     "text": [
      "<function fir_1.<locals>.sec_2 at 0x0000025FA3BC3E20>\n",
      "muhammadnehaliqbal\n"
     ]
    }
   ],
   "source": [
    "def fir_1(h):\n",
    "    def sec_2(i):\n",
    "        def thi_3(j):\n",
    "            return h+i+j\n",
    "        return thi_3\n",
    "    return sec_2\n",
    "\n",
    "first=fir_1('muhammad')\n",
    "second=first('nehal')\n",
    "print(first)\n",
    "print(second('iqbal'))"
   ]
  },
  {
   "cell_type": "code",
   "execution_count": null,
   "id": "34ba94aa-6641-4585-b4ee-4f2fdd69bda5",
   "metadata": {},
   "outputs": [],
   "source": []
  }
 ],
 "metadata": {
  "kernelspec": {
   "display_name": "Python 3 (ipykernel)",
   "language": "python",
   "name": "python3"
  },
  "language_info": {
   "codemirror_mode": {
    "name": "ipython",
    "version": 3
   },
   "file_extension": ".py",
   "mimetype": "text/x-python",
   "name": "python",
   "nbconvert_exporter": "python",
   "pygments_lexer": "ipython3",
   "version": "3.12.4"
  }
 },
 "nbformat": 4,
 "nbformat_minor": 5
}
