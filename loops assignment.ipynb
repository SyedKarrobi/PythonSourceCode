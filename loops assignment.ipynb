{
 "cells": [
  {
   "cell_type": "code",
   "execution_count": 41,
   "id": "502ac827-367e-47c3-9b4b-9e98358018c8",
   "metadata": {},
   "outputs": [
    {
     "name": "stdin",
     "output_type": "stream",
     "text": [
      "enter your calls to print 10\n"
     ]
    },
    {
     "name": "stdout",
     "output_type": "stream",
     "text": [
      "# \n",
      "# # \n",
      "# # # \n",
      "# # # # \n",
      "# # # # # \n",
      "# # # # # # \n",
      "# # # # # # # \n",
      "# # # # # # # # \n",
      "# # # # # # # # # \n",
      "# # # # # # # # # # \n",
      "# # # # # # # # # # # \n",
      "# # # # # # # # # # \n",
      "# # # # # # # # # \n",
      "# # # # # # # # \n",
      "# # # # # # # \n",
      "# # # # # # \n",
      "# # # # # \n",
      "# # # # \n",
      "# # # \n",
      "# # \n",
      "# \n"
     ]
    }
   ],
   "source": [
    "#QUESTION NO 1\n",
    "rows=int(input('enter your calls to print'))\n",
    "for i in range(1,rows+1):\n",
    "    for j in range(1,i+1):\n",
    "        print('#',end=' ')\n",
    "    print ()\n",
    "for k in range(rows+1,0,-1):\n",
    "    for l in range(1,k+1):\n",
    "        print('#',end=' ')\n",
    "    print ()\n",
    "    "
   ]
  },
  {
   "cell_type": "code",
   "execution_count": 26,
   "id": "818c5e34-254b-4341-b07a-c34828e77a4f",
   "metadata": {},
   "outputs": [
    {
     "name": "stdout",
     "output_type": "stream",
     "text": [
      "# # # # # # # # \n",
      "# # # # # # # # \n",
      "# # # # # # # # \n",
      "# # # # # # # # \n",
      "# # # # # # # # \n",
      "# # # # # # # # \n",
      "# # # # # # # # \n",
      "# # # # # # # # \n"
     ]
    }
   ],
   "source": [
    "#QUESTION NO 2\n",
    "for i in range (8):\n",
    "        for j in range (8):\n",
    "            print('#',end=' ')\n",
    "        print()\n"
   ]
  },
  {
   "cell_type": "code",
   "execution_count": 28,
   "id": "f810d32f-3dc6-44ee-8c48-fdc4b8b660e4",
   "metadata": {},
   "outputs": [
    {
     "name": "stdout",
     "output_type": "stream",
     "text": [
      "Python\n",
      "Numpy\n",
      "Pandas\n",
      "Django\n",
      "Flask\n"
     ]
    }
   ],
   "source": [
    "#QUESTION NO 3\n",
    "list=['Python', 'Numpy','Pandas','Django', 'Flask']\n",
    "for i in list:\n",
    "    print(i)\n",
    "    "
   ]
  },
  {
   "cell_type": "code",
   "execution_count": 17,
   "id": "23b10516-6dbc-43b7-aa16-d4f858765793",
   "metadata": {},
   "outputs": [
    {
     "name": "stdout",
     "output_type": "stream",
     "text": [
      "the total of even is 2450\n",
      "the total of odd is 2500\n"
     ]
    }
   ],
   "source": [
    "#QUESTION NO 4\n",
    "total_even =0\n",
    "total_odd = 0\n",
    "for i in range(100):\n",
    "    if i%2 == 0:\n",
    "        total_even+=i\n",
    "    else:\n",
    "        total_odd+=i\n",
    "print ('the total of even is',total_even)\n",
    "print ('the total of odd is',total_odd)"
   ]
  },
  {
   "cell_type": "code",
   "execution_count": 9,
   "id": "b815eefe-b219-4e53-90d6-fe16e0776497",
   "metadata": {},
   "outputs": [
    {
     "name": "stdin",
     "output_type": "stream",
     "text": [
      "please enter your number 10\n"
     ]
    },
    {
     "name": "stdout",
     "output_type": "stream",
     "text": [
      "cube [1, 8, 27, 64, 125, 216, 343, 512, 729, 1000]\n"
     ]
    }
   ],
   "source": [
    "#Question no 5:\n",
    "cube=[]\n",
    "number=int(input('please enter your number'))\n",
    "for i in range(1,number+1):\n",
    "    cube.append(i**3)\n",
    "    \n",
    "print('cube',cube)\n"
   ]
  },
  {
   "cell_type": "code",
   "execution_count": 39,
   "id": "42f567a4-1b33-441d-85ef-c149d22dd996",
   "metadata": {},
   "outputs": [
    {
     "name": "stdin",
     "output_type": "stream",
     "text": [
      "please enter your number 10\n",
      "please enter your number 20\n"
     ]
    },
    {
     "name": "stdout",
     "output_type": "stream",
     "text": [
      "30\n"
     ]
    }
   ],
   "source": [
    "#Question no 6:\n",
    "def add_two_numbers(x,y):\n",
    "    print(x+y)\n",
    "    \n",
    "x=int(input('please enter your number'))\n",
    "y=int(input('please enter your number'))\n",
    "add_two_numbers(x,y)"
   ]
  },
  {
   "cell_type": "code",
   "execution_count": 49,
   "id": "ceadbe1d-6b6f-415c-b882-34606dd32b41",
   "metadata": {},
   "outputs": [
    {
     "name": "stdin",
     "output_type": "stream",
     "text": [
      "enter your number 10\n"
     ]
    },
    {
     "name": "stdout",
     "output_type": "stream",
     "text": [
      "314.15000000000003\n"
     ]
    }
   ],
   "source": [
    "#Question no 7\n",
    "import math\n",
    "def area_of_circle(r):\n",
    "    area=math.pi*r*r\n",
    "    return area\n",
    "    \n",
    "r=int(input('enter your number'))\n",
    "print(area)"
   ]
  },
  {
   "cell_type": "code",
   "execution_count": 93,
   "id": "cfe34e49-8b98-4ce0-88d7-1b1dd0d4feb1",
   "metadata": {},
   "outputs": [
    {
     "name": "stdin",
     "output_type": "stream",
     "text": [
      "Please enter comma seperated integer = a,b,c\n"
     ]
    },
    {
     "name": "stdout",
     "output_type": "stream",
     "text": [
      "Invalid input! Please enter an integer.\n"
     ]
    }
   ],
   "source": [
    "#Question no 8\n",
    "def add_all_nums(*args):\n",
    "    result=0\n",
    "    for num in args:\n",
    "        result+=num\n",
    "    return result\n",
    "try:\n",
    "    nums= [int(x) for x in input('Please enter comma seperated integer =').split(',')]\n",
    "    print(add_all_nums(*nums))\n",
    "except ValueError:\n",
    "    print(\"Invalid input! Please enter an integer.\")\n"
   ]
  },
  {
   "cell_type": "code",
   "execution_count": 51,
   "id": "bfe3ec37-cea5-49df-bfe8-08e858a41d22",
   "metadata": {},
   "outputs": [
    {
     "name": "stdin",
     "output_type": "stream",
     "text": [
      "convert_celsius_to-fahrenheit 10\n"
     ]
    },
    {
     "name": "stdout",
     "output_type": "stream",
     "text": [
      "celsius_to_fahrenheit= 50.0\n"
     ]
    }
   ],
   "source": [
    "#Question no 9\n",
    "def convert_celsius_to_fahrenheit(C):\n",
    "    F=(C*9/5)+32\n",
    "    print('celsius_to_fahrenheit=',F)\n",
    "\n",
    "C=int(input(\"convert_celsius_to-fahrenheit\"))\n",
    "convert_celsius_to_fahrenheit(C)"
   ]
  },
  {
   "cell_type": "code",
   "execution_count": 19,
   "id": "a54999f4-63cf-4dc7-bc84-b0e58669e095",
   "metadata": {},
   "outputs": [
    {
     "name": "stdin",
     "output_type": "stream",
     "text": [
      "Enter a month: december\n"
     ]
    },
    {
     "name": "stdout",
     "output_type": "stream",
     "text": [
      "autumn\n"
     ]
    }
   ],
   "source": [
    "#Question no 10\n",
    "months={\n",
    "    'January':'Winter','February':'Winter','March':'Winter', \n",
    "    'April':'spring','May':'spring','June':'spring',\n",
    "    'July':'summer','August':'summer','September':'summer', \n",
    "    'October':'autumn', 'November':'autumn', 'December':'autumn'}\n",
    "def check_season_dic(month):\n",
    "    rs=''\n",
    "    for x,y in months.items():\n",
    "        if x.upper() == month.upper():\n",
    "            rs= y\n",
    "            break\n",
    "        else:\n",
    "            rs='Please enter a valid month'\n",
    "    return rs\n",
    "            \n",
    "def check_season(month):\n",
    "    seasons = ()\n",
    "    if input_month == 'january' or input_month == 'febuary' or input_month == 'march':\n",
    "        seasons = 'winter'\n",
    "    elif input_month == 'april' or input_month == 'may' or input_month == 'june':\n",
    "        seasons = 'spring'\n",
    "    elif input_month == 'july' or input_month == 'august' or input_month == 'september':\n",
    "        seasons = 'summer'\n",
    "    elif input_month == 'october' or input_month == 'november' or input_month == 'december':\n",
    "        seasons = 'autumn'\n",
    "    else:\n",
    "        print('Please enter a valid month')\n",
    "    return seasons\n",
    "    \n",
    "input_month = input('Enter a month:')\n",
    "print(check_season_dic(input_month))"
   ]
  },
  {
   "cell_type": "code",
   "execution_count": 4,
   "id": "5b3cc817-7a3c-4821-a049-398abd8bfed6",
   "metadata": {},
   "outputs": [
    {
     "name": "stdin",
     "output_type": "stream",
     "text": [
      "Please Enter x1 5\n",
      "Please Enter y1 5\n",
      "Please Enter x2 5\n",
      "Please Enter y2 5\n"
     ]
    },
    {
     "ename": "TypeError",
     "evalue": "unsupported operand type(s) for -: 'str' and 'str'",
     "output_type": "error",
     "traceback": [
      "\u001b[1;31m---------------------------------------------------------------------------\u001b[0m",
      "\u001b[1;31mTypeError\u001b[0m                                 Traceback (most recent call last)",
      "Cell \u001b[1;32mIn[4], line 9\u001b[0m\n\u001b[0;32m      7\u001b[0m x2\u001b[38;5;241m=\u001b[39m\u001b[38;5;28minput\u001b[39m(\u001b[38;5;124m'\u001b[39m\u001b[38;5;124mPlease Enter x2\u001b[39m\u001b[38;5;124m'\u001b[39m)\n\u001b[0;32m      8\u001b[0m y2\u001b[38;5;241m=\u001b[39m\u001b[38;5;28minput\u001b[39m(\u001b[38;5;124m'\u001b[39m\u001b[38;5;124mPlease Enter y2\u001b[39m\u001b[38;5;124m'\u001b[39m)\n\u001b[1;32m----> 9\u001b[0m calculate_slope(x1,y1,x2,y2)\n",
      "Cell \u001b[1;32mIn[4], line 3\u001b[0m, in \u001b[0;36mcalculate_slope\u001b[1;34m(x1, y1, x2, y2)\u001b[0m\n\u001b[0;32m      2\u001b[0m \u001b[38;5;28;01mdef\u001b[39;00m \u001b[38;5;21mcalculate_slope\u001b[39m(x1,y1,x2,y2):\n\u001b[1;32m----> 3\u001b[0m     slope\u001b[38;5;241m=\u001b[39m(y2\u001b[38;5;241m-\u001b[39my1)\u001b[38;5;241m/\u001b[39m(x2\u001b[38;5;241m-\u001b[39mx1)\n\u001b[0;32m      4\u001b[0m     \u001b[38;5;28;01mreturn\u001b[39;00m slope\n",
      "\u001b[1;31mTypeError\u001b[0m: unsupported operand type(s) for -: 'str' and 'str'"
     ]
    }
   ],
   "source": [
    "#Question no 11\n",
    "def calculate_slope(x1,y1,x2,y2):\n",
    "    slope=(y2-y1)/(x2-x1)\n",
    "    return slope\n",
    "x1=input('Please Enter x1')\n",
    "y1=input('Please Enter y1')\n",
    "x2=input('Please Enter x2')\n",
    "y2=input('Please Enter y2')\n",
    "calculate_slope(x1,y1,x2,y2)"
   ]
  },
  {
   "cell_type": "code",
   "execution_count": 47,
   "id": "445b298d-bf11-4f19-bc99-1203ce6b0358",
   "metadata": {},
   "outputs": [
    {
     "name": "stdin",
     "output_type": "stream",
     "text": [
      "Please enter a 1\n",
      "Please enter b 10\n",
      "Please enter c -24\n"
     ]
    },
    {
     "name": "stdout",
     "output_type": "stream",
     "text": [
      "real and different roots\n",
      "2.0\n",
      "-12.0\n"
     ]
    }
   ],
   "source": [
    "#Question no 12\n",
    "a= int(input(\"Please enter a\"))\n",
    "b= int(input(\"Please enter b\"))\n",
    "c= int(input(\"Please enter c\"))\n",
    "\n",
    "import math \n",
    "def equationroots( a, b, c): \n",
    "    dis = b * b - 4 * a * c \n",
    "    sqrt_val = math.sqrt(abs(dis)) \n",
    "    if dis > 0: \n",
    "        print(\"real and different roots\") \n",
    "        print((-b + sqrt_val)/(2 * a)) \n",
    "        print((-b - sqrt_val)/(2 * a)) \n",
    "    \n",
    "    elif dis == 0: \n",
    "        print(\"real and same roots\") \n",
    "        print(-b / (2 * a)) \n",
    "\n",
    "equationroots(a,b,c)"
   ]
  },
  {
   "cell_type": "code",
   "execution_count": 51,
   "id": "21da3fcf-2a55-4bc6-9519-d704a4e6ff19",
   "metadata": {},
   "outputs": [
    {
     "name": "stdout",
     "output_type": "stream",
     "text": [
      "1\n",
      "2\n",
      "3\n",
      "4\n"
     ]
    }
   ],
   "source": [
    "#Question no 13\n",
    "def print_list (my_list):\n",
    "    for i in my_list:\n",
    "        print(i)\n",
    "my_list=[1,2,3,4]    \n",
    "print_list (my_list)"
   ]
  },
  {
   "cell_type": "code",
   "execution_count": 65,
   "id": "0c34ff96-2677-4a0e-a696-9e00a78d4f8f",
   "metadata": {},
   "outputs": [
    {
     "name": "stdout",
     "output_type": "stream",
     "text": [
      "['c', 'b', 'a']\n",
      "[5, 4, 3, 2, 1]\n"
     ]
    }
   ],
   "source": [
    "#Question no 14\n",
    "def reverse_list(list):\n",
    "    np=[]\n",
    "    for i in reversed(list):\n",
    "        np.append(i)\n",
    "    print(np)\n",
    "\n",
    "list1=[\"a\",\"b\",\"c\"]\n",
    "list2=[1,2,3,4,5]\n",
    "reverse_list(list1)\n",
    "reverse_list(list2)"
   ]
  },
  {
   "cell_type": "code",
   "execution_count": 79,
   "id": "a04a88e8-9f20-42f4-b5b5-3fc6048bd1b3",
   "metadata": {},
   "outputs": [
    {
     "name": "stdin",
     "output_type": "stream",
     "text": [
      "please enter positive 10\n"
     ]
    },
    {
     "name": "stdout",
     "output_type": "stream",
     "text": [
      "the total of even is [0, 2, 4, 6, 8]\n",
      "the total of odd is [1, 3, 5, 7, 9]\n"
     ]
    }
   ],
   "source": [
    "#Question no 15\n",
    "number=int(input('please enter positive'))\n",
    "def evens_and_odds(number):\n",
    "    total_even =[]\n",
    "    total_odd = []\n",
    "    \n",
    "    for i in range(number):\n",
    "        if i%2 == 0:\n",
    "            total_even.append(i)\n",
    "        else:\n",
    "            total_odd.append(i)\n",
    "print ('the total of even is',total_even)\n",
    "print ('the total of odd is',total_odd)"
   ]
  },
  {
   "cell_type": "code",
   "execution_count": 93,
   "id": "96de3bb4-0efc-468b-aedd-ef28972a7feb",
   "metadata": {},
   "outputs": [
    {
     "name": "stdin",
     "output_type": "stream",
     "text": [
      "Please enter comma seperated integer = 1,3,5\n"
     ]
    },
    {
     "name": "stdout",
     "output_type": "stream",
     "text": [
      "3.0\n"
     ]
    }
   ],
   "source": [
    "#Question no 16\n",
    "def calculate_mean(nums):\n",
    "    return sum(nums)/len(nums)\n",
    "def calculate_median(nums):\n",
    "    return sum(nums)/2\n",
    "def calculate_mode(nums):\n",
    "    return sum(nums)/2\n",
    "    \n",
    "try:\n",
    "    nums= [int(x) for x in input('Please enter comma seperated integer =').split(',')]\n",
    "    print(calculate_mean(nums))\n",
    "    print(calculate_median(nums))\n",
    "except ValueError:\n",
    "    print(\"Invalid input! Please enter an integer.\")\n"
   ]
  },
  {
   "cell_type": "code",
   "execution_count": 121,
   "id": "662657b6-b602-4d54-a21c-3d77efe7d608",
   "metadata": {},
   "outputs": [
    {
     "name": "stdout",
     "output_type": "stream",
     "text": [
      "true\n"
     ]
    }
   ],
   "source": [
    "#Question no 17\n",
    "test_list=[1,2,8,9,9]\n",
    "flag=\"false\"\n",
    "for i in range(len(test_list)):\n",
    "    for n in range(len(test_list)):\n",
    "        if i != n:\n",
    "            if test_list[i]==test_list[n]:\n",
    "                flag='true'\n",
    "print (flag)"
   ]
  },
  {
   "cell_type": "code",
   "execution_count": 145,
   "id": "7d15d02c-180d-4aa4-b89c-6840b102e726",
   "metadata": {},
   "outputs": [
    {
     "name": "stdout",
     "output_type": "stream",
     "text": [
      "<class 'int'>\n",
      "<class 'int'>\n",
      "<class 'int'>\n",
      "<class 'int'>\n",
      "<class 'int'>\n",
      "True\n"
     ]
    }
   ],
   "source": [
    "#Question no 18\n",
    "test_list=[1,2,8,9,9]\n",
    "flag=\"True\"\n",
    "Type_of_variable=type(test_list[0])\n",
    "for i in (test_list):\n",
    "    print(str(type(i)))\n",
    "    if Type_of_variable!=type(i):\n",
    "        Type_of_variable= type(i)\n",
    "        flag='false'\n",
    "print (flag)"
   ]
  },
  {
   "cell_type": "code",
   "execution_count": 181,
   "id": "f9dddb8f-f12c-4180-b498-073c6d1b999f",
   "metadata": {},
   "outputs": [
    {
     "name": "stdin",
     "output_type": "stream",
     "text": [
      "Please Provide variable name flag\n"
     ]
    },
    {
     "data": {
      "text/plain": [
       "'true'"
      ]
     },
     "execution_count": 181,
     "metadata": {},
     "output_type": "execute_result"
    }
   ],
   "source": [
    "#Question no 19\n",
    "keywords = [\"False\", \"None\", \"True\", \"and\", \"as\", \"assert\", \"break\", \"class\", \"continue\", \"def\", \"del\",\n",
    "                \"elif\", \"else\", \"except\", \"finally\", \"for\", \"from\", \"global\", \"if\", \"import\", \"in\", \"is\", \"lambda\",\n",
    "                \"nonlocal\", \"not\", \"or\", \"pass\", \"raise\", \"return\", \"try\", \"while\", \"with\", \"yield\"]\n",
    "\n",
    "def valid_python_variable(provided_variable): \n",
    "    Rs='true'\n",
    "    for i in keywords:\n",
    "        if i == provided_variable:\n",
    "            Rs='false'\n",
    "            break\n",
    "    return Rs\n",
    "valid_python_variable(input('Please Provide variable name'))"
   ]
  },
  {
   "cell_type": "code",
   "execution_count": 108,
   "id": "8136c6d4-43fc-4fd7-9067-3e038b3bfdf8",
   "metadata": {},
   "outputs": [
    {
     "name": "stdout",
     "output_type": "stream",
     "text": [
      "local varibales: 4\n"
     ]
    }
   ],
   "source": [
    "#Question no 20\n",
    "def scope():\n",
    "    a = 1\n",
    "    b = 2\n",
    "    c = 3\n",
    "    str_ = 'karrobi'\n",
    "print(\"local varibales:\", scope.__code__.co_nlocals)"
   ]
  }
 ],
 "metadata": {
  "kernelspec": {
   "display_name": "Python 3 (ipykernel)",
   "language": "python",
   "name": "python3"
  },
  "language_info": {
   "codemirror_mode": {
    "name": "ipython",
    "version": 3
   },
   "file_extension": ".py",
   "mimetype": "text/x-python",
   "name": "python",
   "nbconvert_exporter": "python",
   "pygments_lexer": "ipython3",
   "version": "3.12.4"
  }
 },
 "nbformat": 4,
 "nbformat_minor": 5
}
