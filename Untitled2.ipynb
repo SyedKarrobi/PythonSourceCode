{
 "cells": [
  {
   "cell_type": "code",
   "execution_count": 1,
   "id": "7fd043ea-5c59-4d0e-b627-226a716f2c91",
   "metadata": {},
   "outputs": [
    {
     "name": "stdout",
     "output_type": "stream",
     "text": [
      "1\n",
      "2\n",
      "3\n",
      "4\n",
      "5\n"
     ]
    }
   ],
   "source": [
    "fruit_name=[\"apple\",\"banana\",\"cherry\"]\n",
    "animal_name=[\"cow\",\"goat\",\"sheep\"]\n",
    "number=[1,2,3,4]\n",
    "\n",
    "i = 1\n",
    "while i < 6:\n",
    "  print(i)\n",
    "  i += 1"
   ]
  },
  {
   "cell_type": "code",
   "execution_count": 11,
   "id": "6422d881-9d3f-4105-8320-19f5f117999f",
   "metadata": {},
   "outputs": [
    {
     "name": "stdin",
     "output_type": "stream",
     "text": [
      "enter number 5\n"
     ]
    },
    {
     "name": "stdout",
     "output_type": "stream",
     "text": [
      "1 \n",
      "1 2 1 \n",
      "1 2 3 2 1 \n",
      "1 2 3 4 3 2 1 \n",
      "1 2 3 4 5 4 3 2 1 \n"
     ]
    }
   ],
   "source": [
    "#nested loops (loops with in a loops)\n",
    "row = int (input('enter number'))\n",
    "for i in range (1,row+1):\n",
    "    for j in range (1,i+1):\n",
    "        print(j,end=' ')\n",
    "    for k in range (i-1,0,-1):\n",
    "        print(k,end=' ')\n",
    "    print()\n"
   ]
  },
  {
   "cell_type": "code",
   "execution_count": 13,
   "id": "7f28352a-e788-4b33-b111-a6d2fea2b165",
   "metadata": {},
   "outputs": [],
   "source": [
    "#arguments (call function) n=and parameter (body)"
   ]
  },
  {
   "cell_type": "code",
   "execution_count": 15,
   "id": "1df327cb-7c1e-47f1-9b23-40b214d634e1",
   "metadata": {},
   "outputs": [],
   "source": [
    "def welcome():\n",
    "    print(\"Good Morning Ali, Have a Nice day\")"
   ]
  },
  {
   "cell_type": "code",
   "execution_count": 17,
   "id": "e496aaef-a445-4aa6-aa41-533bf2275386",
   "metadata": {},
   "outputs": [
    {
     "name": "stdout",
     "output_type": "stream",
     "text": [
      "Good Morning Ali, Have a Nice day\n"
     ]
    }
   ],
   "source": [
    "welcome()"
   ]
  },
  {
   "cell_type": "code",
   "execution_count": 21,
   "id": "0ee987cf-5bc3-4883-a654-0c0f1b2bebe5",
   "metadata": {},
   "outputs": [
    {
     "name": "stdout",
     "output_type": "stream",
     "text": [
      "Good Morning farooq Have a Nice day\n"
     ]
    }
   ],
   "source": [
    "def welcome(name):\n",
    "    print(\"Good Morning\",name, \"Have a Nice day\")\n",
    "welcome (\"farooq\")"
   ]
  },
  {
   "cell_type": "code",
   "execution_count": 23,
   "id": "dd8a66fe-b255-468d-8b13-d01df4d5bddf",
   "metadata": {},
   "outputs": [
    {
     "name": "stdout",
     "output_type": "stream",
     "text": [
      "Good Morning Bharti Have a Nice day\n"
     ]
    }
   ],
   "source": [
    "def welcome(name):\n",
    "    print(\"Good Morning\",name, \"Have a Nice day\")\n",
    "name= \"Bharti\"\n",
    "welcome (name)"
   ]
  },
  {
   "cell_type": "code",
   "execution_count": 25,
   "id": "34297827-55f6-4b8b-b23c-13442dd8eaba",
   "metadata": {},
   "outputs": [
    {
     "name": "stdin",
     "output_type": "stream",
     "text": [
      "Enter your name:  karrobi\n"
     ]
    },
    {
     "name": "stdout",
     "output_type": "stream",
     "text": [
      "Good Morning karrobi Have a Nice day\n"
     ]
    }
   ],
   "source": [
    "def welcome(name):\n",
    "    print(\"Good Morning\",name, \"Have a Nice day\")\n",
    "name= input(\"Enter your name: \")\n",
    "welcome (name)"
   ]
  },
  {
   "cell_type": "code",
   "execution_count": 45,
   "id": "28f6530a-b3c3-44a8-bf0b-2be406e9003e",
   "metadata": {},
   "outputs": [
    {
     "data": {
      "text/plain": [
       "6"
      ]
     },
     "execution_count": 45,
     "metadata": {},
     "output_type": "execute_result"
    }
   ],
   "source": [
    "def add(num1,num2):\n",
    "    return num1+num2\n",
    "add(2,4)"
   ]
  },
  {
   "cell_type": "code",
   "execution_count": 75,
   "id": "6351cc4f-9fef-4a3e-9560-915fec4dcd56",
   "metadata": {},
   "outputs": [
    {
     "name": "stdin",
     "output_type": "stream",
     "text": [
      "Enter 10\n"
     ]
    },
    {
     "name": "stdout",
     "output_type": "stream",
     "text": [
      "Num is even 10\n"
     ]
    }
   ],
   "source": [
    "def num_even(num):\n",
    "    if num%2==0:\n",
    "        print(\"Num is even\",num)\n",
    "    else:\n",
    "        print(\"Num is odd\")\n",
    "num=int(input(\"Enter\"))\n",
    "num_even(num)"
   ]
  },
  {
   "cell_type": "code",
   "execution_count": 95,
   "id": "6ff11b82-639f-4f0e-b5b3-16ef66df2b69",
   "metadata": {},
   "outputs": [
    {
     "name": "stdin",
     "output_type": "stream",
     "text": [
      "Enter radius=  10\n"
     ]
    },
    {
     "data": {
      "text/plain": [
       "(314.2, 62.839999999999996)"
      ]
     },
     "execution_count": 95,
     "metadata": {},
     "output_type": "execute_result"
    }
   ],
   "source": [
    "def area_and_circumference(r):\n",
    "    pie=3.142\n",
    "    area=pie*r**2\n",
    "    Circumference=2*pie*r\n",
    "    return area,Circumference\n",
    "r=float(input(\"Enter radius= \"))\n",
    "area_and_circumference(r)"
   ]
  },
  {
   "cell_type": "code",
   "execution_count": null,
   "id": "de76e292-02f5-4659-8d75-d972062c23ba",
   "metadata": {},
   "outputs": [],
   "source": [
    "#Local is irreplaceable and Global is replaceable"
   ]
  }
 ],
 "metadata": {
  "kernelspec": {
   "display_name": "Python 3 (ipykernel)",
   "language": "python",
   "name": "python3"
  },
  "language_info": {
   "codemirror_mode": {
    "name": "ipython",
    "version": 3
   },
   "file_extension": ".py",
   "mimetype": "text/x-python",
   "name": "python",
   "nbconvert_exporter": "python",
   "pygments_lexer": "ipython3",
   "version": "3.12.4"
  }
 },
 "nbformat": 4,
 "nbformat_minor": 5
}
