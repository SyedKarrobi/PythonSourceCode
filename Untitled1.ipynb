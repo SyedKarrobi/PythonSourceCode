{
 "cells": [
  {
   "cell_type": "code",
   "execution_count": 15,
   "id": "cb3c78ed-748b-49df-b739-c1f5c57915c1",
   "metadata": {},
   "outputs": [
    {
     "name": "stdout",
     "output_type": "stream",
     "text": [
      "{'middle name': 'karrobi', 'Age': 24, 'marks': {'Journal': 99, 'Kernel': 88, 'moress': 44}}\n"
     ]
    }
   ],
   "source": [
    "person1={\"middle name\":\"karrobi\",\n",
    "        \"Age\":24,\n",
    "        \"marks\":{\"Journal\":99,\"Kernel\":88,\"moress\":44}}\n",
    "print (person1)"
   ]
  },
  {
   "cell_type": "code",
   "execution_count": 33,
   "id": "310c766b-9fbc-42f7-a029-a4a0d9ac9a57",
   "metadata": {},
   "outputs": [
    {
     "name": "stdout",
     "output_type": "stream",
     "text": [
      "dict_keys(['middle name', 'Age', 'marks'])\n"
     ]
    }
   ],
   "source": [
    "print(person1.keys())"
   ]
  },
  {
   "cell_type": "code",
   "execution_count": 25,
   "id": "dbc79efe-186a-4e7e-b2c7-697c425d99c3",
   "metadata": {},
   "outputs": [
    {
     "name": "stdout",
     "output_type": "stream",
     "text": [
      "{'Name': 'Sajid', 'Gender': 'Male', 'Skills': ['Data Science', 'ML', 'AI'], 'Age': 31}\n"
     ]
    }
   ],
   "source": [
    "person = {'Name':'Sajid',\n",
    "          'Gender':'Male',\n",
    "          'Skills':['Data Science','ML','AI'],\n",
    "          'Age':31}\n",
    "print(person)"
   ]
  },
  {
   "cell_type": "code",
   "execution_count": 29,
   "id": "4697d43c-33e8-46b7-9453-d75b9e6bf392",
   "metadata": {},
   "outputs": [
    {
     "name": "stdout",
     "output_type": "stream",
     "text": [
      "dict_keys(['Name', 'Gender', 'Skills', 'Age'])\n"
     ]
    }
   ],
   "source": [
    "print(person.keys())"
   ]
  },
  {
   "cell_type": "code",
   "execution_count": 35,
   "id": "8cff13b0-b38e-4b2f-8a63-c2d7a86b02fc",
   "metadata": {},
   "outputs": [
    {
     "name": "stdout",
     "output_type": "stream",
     "text": [
      "dict_values(['karrobi', 24, {'Journal': 99, 'Kernel': 88, 'moress': 44}])\n"
     ]
    }
   ],
   "source": [
    "print(person1.values())"
   ]
  },
  {
   "cell_type": "code",
   "execution_count": 37,
   "id": "3cf7f71e-7de4-4304-a532-0155e44d1e2e",
   "metadata": {},
   "outputs": [
    {
     "name": "stdout",
     "output_type": "stream",
     "text": [
      "dict_items([('middle name', 'karrobi'), ('Age', 24), ('marks', {'Journal': 99, 'Kernel': 88, 'moress': 44})])\n"
     ]
    }
   ],
   "source": [
    "print(person1.items())"
   ]
  },
  {
   "cell_type": "code",
   "execution_count": 36,
   "id": "b00b6a94-b3a7-4494-a724-25fcafced810",
   "metadata": {},
   "outputs": [
    {
     "name": "stdin",
     "output_type": "stream",
     "text": [
      "enter your calls to print 10\n"
     ]
    },
    {
     "name": "stdout",
     "output_type": "stream",
     "text": [
      "# # # # # # # \n",
      "# # # # # # # \n",
      "# # # # # # # \n",
      "# # # # # # # \n",
      "# # # # # # # \n",
      "# # # # # # # \n",
      "# # # # # # # \n"
     ]
    }
   ],
   "source": [
    "rows=int(input('enter your calls to print'))\n",
    "\n",
    "\n",
    "for i in range (7):\n",
    "        for j in range (7):\n",
    "            \n",
    "            print('#',end=' ')\n",
    "        print()"
   ]
  },
  {
   "cell_type": "code",
   "execution_count": null,
   "id": "a821e7c7-338e-4b7b-8bac-d6efa9147153",
   "metadata": {},
   "outputs": [],
   "source": []
  }
 ],
 "metadata": {
  "kernelspec": {
   "display_name": "Python 3 (ipykernel)",
   "language": "python",
   "name": "python3"
  },
  "language_info": {
   "codemirror_mode": {
    "name": "ipython",
    "version": 3
   },
   "file_extension": ".py",
   "mimetype": "text/x-python",
   "name": "python",
   "nbconvert_exporter": "python",
   "pygments_lexer": "ipython3",
   "version": "3.12.4"
  }
 },
 "nbformat": 4,
 "nbformat_minor": 5
}
