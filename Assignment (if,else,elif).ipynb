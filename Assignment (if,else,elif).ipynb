{
 "cells": [
  {
   "cell_type": "code",
   "execution_count": 47,
   "id": "84ff968c-7fd6-4d31-999f-532014eeff0b",
   "metadata": {},
   "outputs": [
    {
     "name": "stdin",
     "output_type": "stream",
     "text": [
      "Enter Your Number = 3\n"
     ]
    },
    {
     "name": "stdout",
     "output_type": "stream",
     "text": [
      "Your Number is divisible by 3\n"
     ]
    }
   ],
   "source": [
    "#Q1. Write a program to check whether the given input number is divisible by 3 or else show a message “Number is not divisible by 3”.\n",
    "number= int(input(\"Enter Your Number =\"))\n",
    "if number%3==0:\n",
    "    print(\"Your Number is divisible by 3\")\n",
    "else:\n",
    "    print ('Your Number is not divisible by 3')"
   ]
  },
  {
   "cell_type": "code",
   "execution_count": 57,
   "id": "965eecfb-ad90-4259-b422-4cae65b51a15",
   "metadata": {},
   "outputs": [
    {
     "name": "stdin",
     "output_type": "stream",
     "text": [
      "Enter Your Number = 15\n"
     ]
    },
    {
     "name": "stdout",
     "output_type": "stream",
     "text": [
      "Your Number is Odd\n"
     ]
    }
   ],
   "source": [
    "#Q2. Write a program that checks whether the given input is an even number or an odd number.\n",
    "number= int(input(\"Enter Your Number =\"))\n",
    "if number%2==0:\n",
    "    print(\"Your Number is Even\")\n",
    "else:\n",
    "    print ('Your Number is Odd')"
   ]
  },
  {
   "cell_type": "code",
   "execution_count": 61,
   "id": "b6d5d26c-b477-432b-bba6-ba4e369601f6",
   "metadata": {},
   "outputs": [
    {
     "name": "stdin",
     "output_type": "stream",
     "text": [
      "Enter Your age = 19\n"
     ]
    },
    {
     "name": "stdout",
     "output_type": "stream",
     "text": [
      "Old enough\n"
     ]
    }
   ],
   "source": [
    "#Q3. Write an if/else statement with the following condition:If the variable age is greater than 18, output \"Old enough\", otherwise output \"Too young\".\n",
    "your_age= int(input(\"Enter Your age =\"))\n",
    "if your_age>18:\n",
    "    print(\"Old enough\")\n",
    "else:\n",
    "    print (\"Too young\")"
   ]
  },
  {
   "cell_type": "raw",
   "id": "9ccfc4f8-c154-4d5d-a98a-e610dc2be42a",
   "metadata": {},
   "source": [
    "\n"
   ]
  },
  {
   "cell_type": "code",
   "execution_count": 75,
   "id": "c12daa6e-8332-4db2-85ba-32faa20f6ef4",
   "metadata": {},
   "outputs": [
    {
     "name": "stdin",
     "output_type": "stream",
     "text": [
      "Please Enter Your Name:  karrobi\n"
     ]
    }
   ],
   "source": [
    "#Q4. Write a program that prompts the user for their name, and then displays a special greeting to that person if their name is the same as yours. If the name entered by the user is anything other than your name, your code should not produce any output.\n",
    "Your_name=input(\"Please Enter Your Name: \")\n",
    "My_name=\"Syed Karrobi\"\n",
    "if Your_name==My_name:\n",
    "    print(\"It's good to see you.\")"
   ]
  },
  {
   "cell_type": "code",
   "execution_count": 81,
   "id": "a94eb60d-b80f-453e-b272-c5bb33c5e3e7",
   "metadata": {},
   "outputs": [
    {
     "name": "stdin",
     "output_type": "stream",
     "text": [
      "Please Enter Your Year=  2024\n"
     ]
    },
    {
     "name": "stdout",
     "output_type": "stream",
     "text": [
      "It's a leap year\n"
     ]
    }
   ],
   "source": [
    "#Q5. Write a program that takes a calendar year in YYYY format in a variable. Check & notify the user whether it is a leap year or not.\n",
    "Leap_year=int(input(\"Please Enter Your Year= \"))\n",
    "if Leap_year%4==0:\n",
    "    print(\"It's a leap year\")\n",
    "else:\n",
    "    print(\"It's not a leap year\")"
   ]
  },
  {
   "cell_type": "code",
   "execution_count": 191,
   "id": "1f840371-e26c-4a49-b126-ba71bfa05447",
   "metadata": {},
   "outputs": [
    {
     "name": "stdin",
     "output_type": "stream",
     "text": [
      "Please Enter Your Number: 20\n",
      "Please Enter Your Number: 20\n"
     ]
    },
    {
     "name": "stdout",
     "output_type": "stream",
     "text": [
      "20 = 20\n"
     ]
    }
   ],
   "source": [
    "#Q6. Write a program that accept two integers and display the larger. Also show if the two integers are equal.\n",
    "x=int(input(\"Please Enter Your Number:\"))\n",
    "y=int(input(\"Please Enter Your Number:\"))\n",
    "if x>y:\n",
    "    print(x)\n",
    "elif y>x:\n",
    "    print(y)\n",
    "elif x==y:\n",
    "    print(x,\"=\",y)"
   ]
  },
  {
   "cell_type": "code",
   "execution_count": 199,
   "id": "1a3ce716-27ce-4a14-ab98-786be529518d",
   "metadata": {},
   "outputs": [
    {
     "name": "stdin",
     "output_type": "stream",
     "text": [
      "Please Enter Your Number: 10\n"
     ]
    },
    {
     "name": "stdout",
     "output_type": "stream",
     "text": [
      "Your number is positive\n"
     ]
    }
   ],
   "source": [
    "#Q7. Write a program that takes input a number from user & state whether the number is positive, negative or zero.\n",
    "x=int(input(\"Please Enter Your Number:\"))\n",
    "if x>0:\n",
    "    print(\"Your number is positive\")\n",
    "elif x<0:\n",
    "    print(\"Your number is negative\")\n",
    "elif x==0:\n",
    "    print (\"Your number is Zero\")"
   ]
  },
  {
   "cell_type": "code",
   "execution_count": 245,
   "id": "84deceae-613d-461e-8f9b-f8fd7c9c8c3a",
   "metadata": {},
   "outputs": [
    {
     "name": "stdin",
     "output_type": "stream",
     "text": [
      "Please Enter Your character: a\n"
     ]
    },
    {
     "name": "stdout",
     "output_type": "stream",
     "text": [
      "True\n"
     ]
    }
   ],
   "source": [
    "#Q8. Write a program that takes a character (i.e. string of length 1) and returns true if it is a vowel, false otherwise.\n",
    "character= input(\"Please Enter Your character:\")\n",
    "vowel=['a','e','i','o','u']\n",
    "is_vowel='false'\n",
    "if len(character)==1:\n",
    "    for i in vowel:\n",
    "        if i==character:\n",
    "            is_vowel=\"True\"\n",
    "            break\n",
    "    print(is_vowel)\n",
    "else:\n",
    "    print(\"character length 1 only\")"
   ]
  },
  {
   "cell_type": "code",
   "execution_count": 249,
   "id": "aa2de08d-6a73-48b1-bb0c-974192f9ecbc",
   "metadata": {},
   "outputs": [
    {
     "name": "stdin",
     "output_type": "stream",
     "text": [
      "Enter Your age = 19\n"
     ]
    },
    {
     "data": {
      "text/plain": [
       "'old enough'"
      ]
     },
     "execution_count": 249,
     "metadata": {},
     "output_type": "execute_result"
    }
   ],
   "source": [
    "#Q9. Use a conditional (ternary) operator for this exercise:If the variable age is a value below 18, the value of the variable voteable should be\"Too young\", otherwise the value of voteable should be \"Old enough\".\n",
    "age= int(input(\"Enter Your age =\"))\n",
    "\"Too young\" if age<18 else \"old enough\""
   ]
  },
  {
   "cell_type": "code",
   "execution_count": 378,
   "id": "e1546266-a8e0-4b93-b16a-cee2906fdf64",
   "metadata": {},
   "outputs": [
    {
     "name": "stdin",
     "output_type": "stream",
     "text": [
      "Please enter his/her password:  \n"
     ]
    },
    {
     "name": "stdout",
     "output_type": "stream",
     "text": [
      "Please enter your password\n"
     ]
    }
   ],
   "source": [
    "#Q10. Write a program that\n",
    "original_password=\"010933\"\n",
    "password=input(\"Please enter his/her password: \")\n",
    "if password == \"\":\n",
    "    print('Please enter your password')\n",
    "elif original_password==password:\n",
    "    print ('Correct! The password you entered matches the original password')\n",
    "else:\n",
    "    print(\"Incorrect password\")\n",
    "\n"
   ]
  },
  {
   "cell_type": "code",
   "execution_count": 442,
   "id": "1e9c51e0-3308-4fe0-9acd-423da8cbd540",
   "metadata": {},
   "outputs": [
    {
     "name": "stdin",
     "output_type": "stream",
     "text": [
      "Please enter your time in 24 hours clock format 2200\n"
     ]
    },
    {
     "name": "stdout",
     "output_type": "stream",
     "text": [
      "Good night!\n"
     ]
    }
   ],
   "source": [
    "#Q11. Write a program that takes time as input from user in 24 hours clock format like:\n",
    "#1900 = 7pm. Implement the following case using if, else & else if statements\n",
    "clock_it=int(input(\"Please enter your time in 24 hours clock format\"))\n",
    "if clock_it>= 0000 and clock_it<1200:\n",
    "    print(\"Good morning!\")\n",
    "elif clock_it>= 1200 and clock_it<1700:\n",
    "    print(\"Good afternoon!\")\n",
    "elif clock_it>= 1700 and clock_it<2100:\n",
    "    print(\"Good evening!\")\n",
    "elif clock_it>= 2100 and clock_it<2359:\n",
    "    print(\"Good night!\")"
   ]
  },
  {
   "cell_type": "code",
   "execution_count": null,
   "id": "7cf59de7-f705-4d0f-88f1-767736bd35cf",
   "metadata": {},
   "outputs": [],
   "source": []
  }
 ],
 "metadata": {
  "kernelspec": {
   "display_name": "Python 3 (ipykernel)",
   "language": "python",
   "name": "python3"
  },
  "language_info": {
   "codemirror_mode": {
    "name": "ipython",
    "version": 3
   },
   "file_extension": ".py",
   "mimetype": "text/x-python",
   "name": "python",
   "nbconvert_exporter": "python",
   "pygments_lexer": "ipython3",
   "version": "3.12.4"
  }
 },
 "nbformat": 4,
 "nbformat_minor": 5
}
