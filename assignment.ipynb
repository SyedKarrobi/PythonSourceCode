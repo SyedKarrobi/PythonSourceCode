{
 "cells": [
  {
   "cell_type": "code",
   "execution_count": 1,
   "id": "77cf44fa-b4a6-4c61-b6f9-16a945e2996e",
   "metadata": {},
   "outputs": [
    {
     "name": "stdout",
     "output_type": "stream",
     "text": [
      "1\n",
      "2\n",
      "3\n",
      "4\n",
      "5\n",
      "6\n",
      "7\n",
      "8\n",
      "9\n",
      "10\n"
     ]
    }
   ],
   "source": [
    "#1. Write a Python program to print the numbers from 1 to 10 using a for loop.\n",
    "for i in range (1,11):\n",
    "    print(i)"
   ]
  },
  {
   "cell_type": "code",
   "execution_count": 3,
   "id": "c03268b1-ea5e-47d1-8f58-cc29e204c8d9",
   "metadata": {},
   "outputs": [
    {
     "name": "stdout",
     "output_type": "stream",
     "text": [
      "1\n",
      "2\n",
      "3\n",
      "4\n",
      "5\n"
     ]
    }
   ],
   "source": [
    "#2. Create a list containing the numbers 1 to 5. Then, using a for loop, print each element of the list.\n",
    "numbers=[1,2,3,4,5]\n",
    "for num in numbers:\n",
    "    print(num)\n"
   ]
  },
  {
   "cell_type": "code",
   "execution_count": 86,
   "id": "f1889760-3beb-4391-9dcc-028b4f7fb908",
   "metadata": {},
   "outputs": [
    {
     "name": "stdout",
     "output_type": "stream",
     "text": [
      "sum of all the numbers 22\n"
     ]
    }
   ],
   "source": [
    "#3. Write a program that takes a list of numbers and returns the sum of all the numbers in the list.\n",
    "def total_value(list_of_numbers):\n",
    "    result=0\n",
    "    for i in list_of_numbers:\n",
    "        result+=i\n",
    "    return result\n",
    "\n",
    "list_of_numbers = [1,5,7,9]\n",
    "print(\"sum of all the numbers\",total_value(list_of_numbers))"
   ]
  },
  {
   "cell_type": "code",
   "execution_count": 75,
   "id": "93fdc57e-0eaf-4d6f-96d0-46dd5cd7a603",
   "metadata": {},
   "outputs": [
    {
     "name": "stdout",
     "output_type": "stream",
     "text": [
      "concatenate string= Oranges Grapes banana apple  \n"
     ]
    }
   ],
   "source": [
    "#4. Given a list of strings, write a program to concatenate all the strings into one.\n",
    "def concat_fruits(fruits):\n",
    "    result= ' '\n",
    "    for i in fruits:\n",
    "        result=i+' '+result\n",
    "    return result\n",
    "fruits = [\"apple\",\"banana\",\"Grapes\",\"Oranges\"]\n",
    "print (\"concatenate string=\",concat_fruits(fruits))"
   ]
  },
  {
   "cell_type": "code",
   "execution_count": 77,
   "id": "ddfc23e1-7b91-40fb-b2fa-c61c7b2f0eaf",
   "metadata": {},
   "outputs": [
    {
     "name": "stdout",
     "output_type": "stream",
     "text": [
      "largest number in the list= 9\n"
     ]
    }
   ],
   "source": [
    "#5. Write a program that takes a list of numbers and returns the largest number in the list.\n",
    "def large_num(num):\n",
    "    result=num[0]\n",
    "    for i in num:\n",
    "        if i > result:\n",
    "            result = i\n",
    "    return result\n",
    "num= [1,2,3,4,5,6,7,8,9]\n",
    "print(\"largest number in the list=\",large_num(num))"
   ]
  },
  {
   "cell_type": "code",
   "execution_count": 84,
   "id": "7b826fce-cdcf-42cf-906d-60a7ae6a2d1e",
   "metadata": {},
   "outputs": [
    {
     "name": "stdout",
     "output_type": "stream",
     "text": [
      "[1, 4, 9, 16, 25, 36, 49, 64, 81, 100]\n"
     ]
    }
   ],
   "source": [
    "#6. Create a list containing the numbers 1 to 10. Using a for loop, square each number in the list and print the result.\n",
    "def square_rows(rows):\n",
    "    result= []\n",
    "    for i in rows:\n",
    "        result.append(i*i)\n",
    "    return result\n",
    "rows=[1,2,3,4,5,6,7,8,9,10]\n",
    "print (square_rows(rows))"
   ]
  },
  {
   "cell_type": "code",
   "execution_count": 102,
   "id": "bb84595c-74ad-470e-8254-ce5ea50101ca",
   "metadata": {},
   "outputs": [
    {
     "name": "stdout",
     "output_type": "stream",
     "text": [
      "Even Numbers =  [2, 4, 6, 8]\n"
     ]
    }
   ],
   "source": [
    "#7. Write a program that takes a list of numbers and returns a new list containing only the even numbers from the original list\n",
    "def even_numbers(list_of_numbers):\n",
    "    result=[]\n",
    "    for i in list_of_numbers:\n",
    "        if i%2==0:\n",
    "            result.append(i)\n",
    "    return result\n",
    "list_of_numbers= [1,2,3,4,5,6,7,8,9]\n",
    "print(\"Even Numbers = \",even_numbers(list_of_numbers))"
   ]
  },
  {
   "cell_type": "code",
   "execution_count": 136,
   "id": "fea64b42-2fe1-4ffe-a187-95dae6b4db27",
   "metadata": {},
   "outputs": [
    {
     "name": "stdout",
     "output_type": "stream",
     "text": [
      "lists element-wise [7, 9, 11, 13, 15]\n"
     ]
    }
   ],
   "source": [
    "#8. Given two lists of numbers, write a program to combine the lists element-wise (i.e., element-wise addition).\n",
    "def element_wise (lists_1,lists_2):\n",
    "    combined_lists=[]\n",
    "    for i in range(len(lists_1)):\n",
    "        combined_lists.append(lists_1[i]+lists_2[i])\n",
    "    return combined_lists\n",
    "\n",
    "lists_of_number1=[1,2,3,4,5]\n",
    "lists_of_number2=[6,7,8,9,10]\n",
    "final_list=element_wise(lists_of_number1,lists_of_number2)\n",
    "\n",
    "print ('lists element-wise',final_list)"
   ]
  },
  {
   "cell_type": "code",
   "execution_count": 148,
   "id": "1b4d813f-a3a7-457a-a7d2-b160be42ffba",
   "metadata": {},
   "outputs": [
    {
     "name": "stdout",
     "output_type": "stream",
     "text": [
      "5\n",
      "6\n",
      "6\n",
      "6\n",
      "length [5, 6, 6, 6]\n"
     ]
    }
   ],
   "source": [
    "#9. Write a program that takes a list of strings and returns a new list containing the lengths of each string.\n",
    "def lengths_of_string(list_of_strings):\n",
    "    length_of_strings=[]\n",
    "    for i in range(len(list_of_strings)):\n",
    "        str_len=len(list_of_strings[i])\n",
    "        print(str_len)\n",
    "        length_of_strings.append(str_len)\n",
    "    return length_of_strings\n",
    "\n",
    "list_of_name=[\"apple\",\"banana\",\"orange\",\"Grapes\"]\n",
    "print(\"length\",lengths_of_string(list_of_name))"
   ]
  },
  {
   "cell_type": "code",
   "execution_count": 176,
   "id": "ff1adb11-0eba-4f31-af07-0b4e6ca7f023",
   "metadata": {},
   "outputs": [
    {
     "name": "stdout",
     "output_type": "stream",
     "text": [
      "2\n",
      "4\n",
      "6\n",
      "8\n",
      "10\n"
     ]
    },
    {
     "data": {
      "text/plain": [
       "<function __main__.second_element(List)>"
      ]
     },
     "execution_count": 176,
     "metadata": {},
     "output_type": "execute_result"
    }
   ],
   "source": [
    "#10. Create a list of numbers from 1 to 10. Using list slicing and a for loop, print every second element of the list.\n",
    "def second_element(List):\n",
    "    Second_element= List[1::2]\n",
    "    for i in Second_element:\n",
    "        print(i)\n",
    "    return second_element\n",
    "List=[1,2,3,4,5,6,7,8,9,10]\n",
    "second_element(List)"
   ]
  },
  {
   "cell_type": "code",
   "execution_count": null,
   "id": "812134ad-c170-4e95-b764-1cbc25d712c0",
   "metadata": {},
   "outputs": [],
   "source": []
  }
 ],
 "metadata": {
  "kernelspec": {
   "display_name": "Python 3 (ipykernel)",
   "language": "python",
   "name": "python3"
  },
  "language_info": {
   "codemirror_mode": {
    "name": "ipython",
    "version": 3
   },
   "file_extension": ".py",
   "mimetype": "text/x-python",
   "name": "python",
   "nbconvert_exporter": "python",
   "pygments_lexer": "ipython3",
   "version": "3.12.4"
  }
 },
 "nbformat": 4,
 "nbformat_minor": 5
}
