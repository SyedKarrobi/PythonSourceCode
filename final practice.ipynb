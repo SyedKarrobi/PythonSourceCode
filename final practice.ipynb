{
 "cells": [
  {
   "cell_type": "code",
   "execution_count": 96,
   "id": "935b0c59-69e2-4940-856e-b6e64b62402f",
   "metadata": {},
   "outputs": [
    {
     "name": "stdin",
     "output_type": "stream",
     "text": [
      "PLease Enter NUmber 7\n"
     ]
    },
    {
     "name": "stdout",
     "output_type": "stream",
     "text": [
      "# \n",
      "# # \n",
      "# # # \n",
      "# # # # \n",
      "# # # # # \n",
      "# # # # # # \n",
      "# # # # # # # \n"
     ]
    }
   ],
   "source": [
    "rows=int(input('PLease Enter NUmber'))\n",
    "for i in range (1,rows+1):\n",
    "    for j in range (1,i+1):\n",
    "        print ('#',end=' ')\n",
    "    print()"
   ]
  },
  {
   "cell_type": "code",
   "execution_count": 108,
   "id": "b73f3c01-0f50-4d3b-9cde-c3a2f2c4ceb5",
   "metadata": {},
   "outputs": [
    {
     "name": "stdin",
     "output_type": "stream",
     "text": [
      "PLease Enter NUmber 7\n"
     ]
    },
    {
     "name": "stdout",
     "output_type": "stream",
     "text": [
      "# # # # # # \n",
      "# # # # # # \n",
      "# # # # # # \n",
      "# # # # # # \n",
      "# # # # # # \n",
      "# # # # # # \n"
     ]
    }
   ],
   "source": [
    "rows=int(input('PLease Enter NUmber'))\n",
    "for i in range (1,rows):\n",
    "    for j in range (1,rows):\n",
    "        print ('#',end=' ')\n",
    "    print()"
   ]
  },
  {
   "cell_type": "code",
   "execution_count": 110,
   "id": "ebfb9707-4928-402f-b788-c5f159eb0094",
   "metadata": {},
   "outputs": [
    {
     "name": "stdout",
     "output_type": "stream",
     "text": [
      "Python\n",
      "Numpy\n",
      "Pandas\n",
      "Flask\n"
     ]
    }
   ],
   "source": [
    "list=['Python','Numpy','Pandas','Flask']\n",
    "for items in list:\n",
    "    print (items)"
   ]
  },
  {
   "cell_type": "code",
   "execution_count": 120,
   "id": "eec9a38f-d9ab-4d25-92e5-928d1159e207",
   "metadata": {},
   "outputs": [
    {
     "name": "stdout",
     "output_type": "stream",
     "text": [
      "sum of all evens=  2450\n",
      "sum_of_all_odd=  2500\n"
     ]
    }
   ],
   "source": [
    "sum_of_all_evens=0\n",
    "sum_of_all_odd=0\n",
    "for i in range (1,100):\n",
    "    if i%2==0:\n",
    "        sum_of_all_evens+=i\n",
    "    else:\n",
    "        sum_of_all_odd+=i\n",
    "\n",
    "print ('sum of all evens= ',sum_of_all_evens)\n",
    "print ('sum_of_all_odd= ',sum_of_all_odd)"
   ]
  },
  {
   "cell_type": "code",
   "execution_count": 142,
   "id": "4d73501d-6def-459b-a990-798ed02d7d2d",
   "metadata": {},
   "outputs": [
    {
     "name": "stdin",
     "output_type": "stream",
     "text": [
      "Please Enter your number 10\n"
     ]
    },
    {
     "name": "stdout",
     "output_type": "stream",
     "text": [
      "cube [1, 8, 27, 64, 125, 216, 343, 512, 729, 1000]\n"
     ]
    }
   ],
   "source": [
    "cube=[]\n",
    "number=int(input('Please Enter your number'))\n",
    "for i in range(1,number+1):\n",
    "        cube.append(i**3)\n",
    "\n",
    "print ('cube',cube)"
   ]
  },
  {
   "cell_type": "code",
   "execution_count": 148,
   "id": "507f0297-d99d-4613-9790-c6642935ecef",
   "metadata": {},
   "outputs": [
    {
     "name": "stdin",
     "output_type": "stream",
     "text": [
      "Please enter 10\n",
      "Please enter 20\n"
     ]
    },
    {
     "data": {
      "text/plain": [
       "30"
      ]
     },
     "execution_count": 148,
     "metadata": {},
     "output_type": "execute_result"
    }
   ],
   "source": [
    "def add_two_numbers(parameter1,parameter2):\n",
    "    sum=parameter1+parameter2\n",
    "    return sum\n",
    "    \n",
    "parameter1=int(input('Please enter'))\n",
    "parameter2=int(input('Please enter'))\n",
    "add_two_numbers(parameter1,parameter2)"
   ]
  },
  {
   "cell_type": "code",
   "execution_count": 172,
   "id": "cc00c49e-9a86-423e-847e-8e74239e15ff",
   "metadata": {},
   "outputs": [
    {
     "name": "stdin",
     "output_type": "stream",
     "text": [
      "Please Enter 10\n"
     ]
    },
    {
     "data": {
      "text/plain": [
       "314.1592653589793"
      ]
     },
     "execution_count": 172,
     "metadata": {},
     "output_type": "execute_result"
    }
   ],
   "source": [
    "import math\n",
    "\n",
    "def Area_of_circle(r):\n",
    "    Area=math.pi*r*r\n",
    "    return Area\n",
    "Radius=int(input('Please Enter'))\n",
    "Area_of_circle(Radius)"
   ]
  },
  {
   "cell_type": "code",
   "execution_count": 210,
   "id": "94d4df17-e632-4445-856f-3912fdd03f2b",
   "metadata": {},
   "outputs": [
    {
     "name": "stdin",
     "output_type": "stream",
     "text": [
      "Please enter a=4,b=4\n"
     ]
    },
    {
     "name": "stdout",
     "output_type": "stream",
     "text": [
      "format is incorrect\n"
     ]
    }
   ],
   "source": [
    "def add_all_nums(*args):\n",
    "    result=0\n",
    "    for num in args:\n",
    "        result+=num\n",
    "    return result\n",
    "try:\n",
    "    nums=[int(x) for x in input('Please enter').split(',')]\n",
    "    print(add_all_nums(*nums))\n",
    "except ValueError:\n",
    "    print('format is incorrect')"
   ]
  },
  {
   "cell_type": "code",
   "execution_count": 222,
   "id": "cc2708d8-8fba-4f52-a13e-e211c56a1819",
   "metadata": {},
   "outputs": [
    {
     "name": "stdin",
     "output_type": "stream",
     "text": [
      "Please Enter a=1\n"
     ]
    },
    {
     "ename": "TypeError",
     "evalue": "example_fun() takes 0 positional arguments but 1 was given",
     "output_type": "error",
     "traceback": [
      "\u001b[1;31m---------------------------------------------------------------------------\u001b[0m",
      "\u001b[1;31mTypeError\u001b[0m                                 Traceback (most recent call last)",
      "Cell \u001b[1;32mIn[222], line 5\u001b[0m\n\u001b[0;32m      2\u001b[0m     \u001b[38;5;28mprint\u001b[39m(kwargs)\n\u001b[0;32m      4\u001b[0m report\u001b[38;5;241m=\u001b[39m(\u001b[38;5;28minput\u001b[39m(\u001b[38;5;124m'\u001b[39m\u001b[38;5;124mPlease Enter\u001b[39m\u001b[38;5;124m'\u001b[39m)\u001b[38;5;241m.\u001b[39msplit(\u001b[38;5;124m'\u001b[39m\u001b[38;5;124m,\u001b[39m\u001b[38;5;124m'\u001b[39m))\n\u001b[1;32m----> 5\u001b[0m example_fun(report)\n",
      "\u001b[1;31mTypeError\u001b[0m: example_fun() takes 0 positional arguments but 1 was given"
     ]
    }
   ],
   "source": [
    "def example_fun(**kwargs):\n",
    "    print(kwargs)\n",
    "\n",
    "report=(input('Please Enter').split(','))\n",
    "example_fun(report)"
   ]
  },
  {
   "cell_type": "code",
   "execution_count": 228,
   "id": "c3062e4e-acaa-4d18-b988-f318ca2d3734",
   "metadata": {},
   "outputs": [
    {
     "name": "stdin",
     "output_type": "stream",
     "text": [
      "Please enter 10\n"
     ]
    },
    {
     "data": {
      "text/plain": [
       "50.0"
      ]
     },
     "execution_count": 228,
     "metadata": {},
     "output_type": "execute_result"
    }
   ],
   "source": [
    "def celsius_to_fahrenheit(C):\n",
    "    F=(C*9/5)+32\n",
    "    return F\n",
    "    \n",
    "C=int(input('Please enter'))\n",
    "celsius_to_fahrenheit(C)"
   ]
  },
  {
   "cell_type": "code",
   "execution_count": 260,
   "id": "f2cc9560-d454-4433-8fda-1ce428de1acd",
   "metadata": {},
   "outputs": [
    {
     "name": "stdin",
     "output_type": "stream",
     "text": [
      "please enter month january\n"
     ]
    },
    {
     "data": {
      "text/plain": [
       "{'January': 'Winter',\n",
       " 'February': 'Winter',\n",
       " 'March': 'Winter',\n",
       " 'April': 'spring',\n",
       " 'May': 'spring',\n",
       " 'June': 'spring',\n",
       " 'July': 'summer',\n",
       " 'August': 'summer',\n",
       " 'September': 'summer',\n",
       " 'October': 'autumn',\n",
       " 'November': 'autumn',\n",
       " 'December': 'autumn'}"
      ]
     },
     "execution_count": 260,
     "metadata": {},
     "output_type": "execute_result"
    }
   ],
   "source": [
    "season={\n",
    "    'January':'Winter','February':'Winter','March':'Winter', \n",
    "    'April':'spring','May':'spring','June':'spring',\n",
    "    'July':'summer','August':'summer','September':'summer', \n",
    "    'October':'autumn', 'November':'autumn', 'December':'autumn'}\n",
    "def check_season(month):\n",
    "    for i in season:\n",
    "        season==month\n",
    "    return season\n",
    "    \n",
    "month=input('please enter month')\n",
    "check_season(month)"
   ]
  },
  {
   "cell_type": "code",
   "execution_count": 276,
   "id": "fa6695b6-2a24-40bb-827e-d6b7a7ac4d8e",
   "metadata": {},
   "outputs": [
    {
     "name": "stdin",
     "output_type": "stream",
     "text": [
      "Please Enter x1 10\n",
      "Please Enter y1 5\n",
      "Please Enter x2 5\n",
      "Please Enter y2 10\n"
     ]
    },
    {
     "data": {
      "text/plain": [
       "-1.0"
      ]
     },
     "execution_count": 276,
     "metadata": {},
     "output_type": "execute_result"
    }
   ],
   "source": [
    "def calculate_slope(x1,y1,x2,y2):\n",
    "    slope=(y2-y1)/(x2-x1)\n",
    "    return slope\n",
    "x1=int(input('Please Enter x1'))\n",
    "y1=int(input('Please Enter y1'))\n",
    "x2=int(input('Please Enter x2'))\n",
    "y2=int(input('Please Enter y2'))\n",
    "calculate_slope(x1,y1,x2,y2)"
   ]
  },
  {
   "cell_type": "code",
   "execution_count": 286,
   "id": "6b895156-ef2b-490b-94fa-d459ba32a0b4",
   "metadata": {},
   "outputs": [
    {
     "name": "stdout",
     "output_type": "stream",
     "text": [
      "len(last_name) is greater 7\n"
     ]
    }
   ],
   "source": [
    "first_name='syed'\n",
    "last_name='karrobi'\n",
    "if len(first_name) > len(last_name):\n",
    "    print ('len(first_name) is greater',len(first_name))\n",
    "else:\n",
    "    print ('len(last_name) is greater',len(last_name))"
   ]
  },
  {
   "cell_type": "code",
   "execution_count": 17,
   "id": "b59c36b8-b211-4e15-b820-d70c1ef0719e",
   "metadata": {},
   "outputs": [
    {
     "name": "stdout",
     "output_type": "stream",
     "text": [
      "0 Exit\n",
      "1 total\n",
      "2 subtract\n",
      "3 multiply\n",
      "4 div\n"
     ]
    },
    {
     "name": "stdin",
     "output_type": "stream",
     "text": [
      "Please enter number 0,1,2,3 or 4 1\n",
      "Enter number a\n"
     ]
    },
    {
     "name": "stdout",
     "output_type": "stream",
     "text": [
      "Invalid input\n"
     ]
    },
    {
     "name": "stdin",
     "output_type": "stream",
     "text": [
      "Please enter number 0,1,2,3 or 4 1\n",
      "Enter number 2\n",
      "Enter number 5\n"
     ]
    },
    {
     "name": "stdout",
     "output_type": "stream",
     "text": [
      "total 7.0\n",
      "<function total at 0x000001E2B1C96D40>\n"
     ]
    },
    {
     "name": "stdin",
     "output_type": "stream",
     "text": [
      "Please enter number 0,1,2,3 or 4 0\n"
     ]
    },
    {
     "name": "stdout",
     "output_type": "stream",
     "text": [
      "You are now Exit\n"
     ]
    }
   ],
   "source": [
    "#calculator\n",
    "def total(a,b):\n",
    "    total=a+b\n",
    "    print('total',total)\n",
    "def subtract(a,b):\n",
    "    diff=a-b\n",
    "    print('diff',diff)\n",
    "def multiply(a,b):\n",
    "    multiply=a*b\n",
    "    print('multiply',multiply)\n",
    "def div(a,b):\n",
    "    div=a/b\n",
    "    print('div',div)\n",
    "\n",
    "print('0 Exit')\n",
    "print('1 total')\n",
    "print('2 subtract')\n",
    "print('3 multiply')\n",
    "print ('4 div')\n",
    "while True:\n",
    "    choice=input('Please enter number 0,1,2,3 or 4')\n",
    "    if choice in ('0','1','2','3','4'):\n",
    "        if choice == '0':\n",
    "            print('You are now Exit')\n",
    "            break\n",
    "        try:\n",
    "            number_one=float(input('Enter number'))\n",
    "            number_two=float(input('Enter number'))\n",
    "        except ValueError:\n",
    "            print('Invalid input')\n",
    "            continue\n",
    "        if choice == '1':\n",
    "            total(number_one,number_two)\n",
    "            print(total)\n",
    "        if choice == '2':\n",
    "            subtract(number_two,number_one)\n",
    "            print(subtract)\n",
    "        if choice == '3':\n",
    "            multiply(number_one,number_two)\n",
    "            print(multiply)\n",
    "        if choice == '4':\n",
    "            div(number_one,number_two)\n",
    "            print(div)"
   ]
  },
  {
   "cell_type": "code",
   "execution_count": 65,
   "id": "fc4b3d37-4dcb-44a2-8e92-83b84179f6b1",
   "metadata": {},
   "outputs": [
    {
     "name": "stdin",
     "output_type": "stream",
     "text": [
      "Please Enter 7\n"
     ]
    },
    {
     "name": "stdout",
     "output_type": "stream",
     "text": [
      "# \n",
      "# # \n",
      "# # # \n",
      "# # # # \n",
      "# # # # # \n",
      "# # # # # # \n",
      "# # # # # # # \n",
      "# # # # # # # # \n",
      "# # # # # # # \n",
      "# # # # # # \n",
      "# # # # # \n",
      "# # # # \n",
      "# # # \n",
      "# # \n",
      "# \n"
     ]
    }
   ],
   "source": [
    "rows=int(input('Please Enter'))\n",
    "for i in range (1,rows+1):\n",
    "    for j in range (1,i+1):\n",
    "        print('#',end=' ')\n",
    "    print()\n",
    "for k in range (rows+1,0,-1):\n",
    "    for l in range (1,k+1):\n",
    "        print('#',end=' ')\n",
    "    print()"
   ]
  },
  {
   "cell_type": "code",
   "execution_count": 71,
   "id": "4f638b3e-c745-4ab5-a15f-379a448e5dc6",
   "metadata": {},
   "outputs": [
    {
     "name": "stdin",
     "output_type": "stream",
     "text": [
      "Please Enter 7\n"
     ]
    },
    {
     "name": "stdout",
     "output_type": "stream",
     "text": [
      "# # # # # # \n",
      "# # # # # # \n",
      "# # # # # # \n",
      "# # # # # # \n",
      "# # # # # # \n",
      "# # # # # # \n"
     ]
    }
   ],
   "source": [
    "rows=int(input('Please Enter'))\n",
    "for i in range (1,rows):\n",
    "    for j in range (1,rows):\n",
    "        print ('#',end=' ')\n",
    "    print()"
   ]
  },
  {
   "cell_type": "code",
   "execution_count": 43,
   "id": "1e937a4e-c23f-42b4-bf68-d9368fa3d3d8",
   "metadata": {},
   "outputs": [
    {
     "name": "stdin",
     "output_type": "stream",
     "text": [
      "Enter your number 1,5,10\n"
     ]
    },
    {
     "name": "stdout",
     "output_type": "stream",
     "text": [
      "Your total sum is 12\n",
      "<class 'list'>\n"
     ]
    }
   ],
   "source": [
    "other=[int(x)for x in input('Enter your number').split(\",\")]\n",
    "Add =0\n",
    "for i in other:\n",
    "        Add+=i\n",
    "print ('Your total sum is',Sum)   \n",
    "print(type(other))"
   ]
  },
  {
   "cell_type": "code",
   "execution_count": 101,
   "id": "01ce1511-1d87-48c2-8a31-b4305f463619",
   "metadata": {},
   "outputs": [
    {
     "data": {
      "text/plain": [
       "'  apple banana grapes'"
      ]
     },
     "execution_count": 101,
     "metadata": {},
     "output_type": "execute_result"
    }
   ],
   "source": [
    "def concatenate(list_):\n",
    "    concatenate_=' '\n",
    "    for i in list_:\n",
    "        concatenate_=concatenate_+\" \"+i\n",
    "    return concatenate_\n",
    "\n",
    "list_of_string=['apple','banana','grapes']\n",
    "concatenate(list_of_string)"
   ]
  },
  {
   "cell_type": "code",
   "execution_count": 47,
   "id": "1bc6f078-3ea0-4dcd-9fa2-432816167e3a",
   "metadata": {},
   "outputs": [
    {
     "name": "stdin",
     "output_type": "stream",
     "text": [
      "Enter your number 1,5,10\n"
     ]
    },
    {
     "name": "stdout",
     "output_type": "stream",
     "text": [
      "10\n"
     ]
    }
   ],
   "source": [
    "other=[int(x)for x in input('Enter your number').split(\",\")]\n",
    "largest_number =0\n",
    "for i in other:\n",
    "    if i>largest_number:\n",
    "        largest_number=i\n",
    "print(largest_number)\n",
    "        \n",
    "    "
   ]
  },
  {
   "cell_type": "code",
   "execution_count": 93,
   "id": "80baee40-3e36-47c4-9f0d-6a0a41adc8a0",
   "metadata": {},
   "outputs": [
    {
     "name": "stdout",
     "output_type": "stream",
     "text": [
      "[1, 4, 9, 16, 25, 36, 49, 64, 81]\n"
     ]
    }
   ],
   "source": [
    "items=[]\n",
    "for i in range(1,10):\n",
    "    items.append(i**2)\n",
    "print (items)"
   ]
  },
  {
   "cell_type": "code",
   "execution_count": 123,
   "id": "65c80410-dbe5-42e4-8eb9-b744d82334d6",
   "metadata": {},
   "outputs": [
    {
     "name": "stdin",
     "output_type": "stream",
     "text": [
      "Please enter your number 1,5,10\n"
     ]
    },
    {
     "name": "stdout",
     "output_type": "stream",
     "text": [
      "[10]\n"
     ]
    }
   ],
   "source": [
    "list_of_numbers=[int(i)for i in input('Please enter your number').split(\",\")]\n",
    "new_list=[]\n",
    "for i in list_of_numbers:\n",
    "    if i%2==0:\n",
    "        new_list.append(i)\n",
    "print(new_list)"
   ]
  },
  {
   "cell_type": "code",
   "execution_count": 171,
   "id": "e93b4152-399b-41f2-a187-7d9d5ff09162",
   "metadata": {},
   "outputs": [
    {
     "name": "stdin",
     "output_type": "stream",
     "text": [
      "Please create your list 1,5\n",
      "Please create your list 5,1\n"
     ]
    },
    {
     "data": {
      "text/plain": [
       "[6, 6]"
      ]
     },
     "execution_count": 171,
     "metadata": {},
     "output_type": "execute_result"
    }
   ],
   "source": [
    "def element_wise(list1,list2):\n",
    "    addition=[]\n",
    "    for i in range(len(list1)):\n",
    "        addition.append(list1[i]+list2[i])\n",
    "    return addition\n",
    "list1=[int(x)for x in input('Please create your list').split(',')]\n",
    "list2=[int(x)for x in input('Please create your list').split(',')]\n",
    "element_wise(list1,list2)"
   ]
  },
  {
   "cell_type": "code",
   "execution_count": 189,
   "id": "d1a926a3-b3f8-455e-a55e-160563883e90",
   "metadata": {},
   "outputs": [
    {
     "data": {
      "text/plain": [
       "[5, 6, 6]"
      ]
     },
     "execution_count": 189,
     "metadata": {},
     "output_type": "execute_result"
    }
   ],
   "source": [
    "fruits=['apple','banana','grapes']\n",
    "length=[]\n",
    "def list_of_strings(fruits):\n",
    "    for i in range(len(fruits)):\n",
    "        length.append(len(fruits[i]))\n",
    "    return length\n",
    "list_of_strings(fruits)"
   ]
  },
  {
   "cell_type": "code",
   "execution_count": 5,
   "id": "0edf520e-e610-4c15-8133-ce5fd203a917",
   "metadata": {},
   "outputs": [
    {
     "name": "stdout",
     "output_type": "stream",
     "text": [
      "2\n",
      "4\n",
      "6\n",
      "8\n",
      "10\n"
     ]
    }
   ],
   "source": [
    "list=[1,2,3,4,5,6,7,8,9,10]\n",
    "slicing=list[1::2]\n",
    "for i in slicing:\n",
    "    print (i)"
   ]
  },
  {
   "cell_type": "code",
   "execution_count": 13,
   "id": "7d63d6a3-f889-426b-9cb4-8694413b72ef",
   "metadata": {},
   "outputs": [
    {
     "name": "stdin",
     "output_type": "stream",
     "text": [
      "please enter rows 7\n"
     ]
    },
    {
     "name": "stdout",
     "output_type": "stream",
     "text": [
      "# \n",
      "# # \n",
      "# # # \n",
      "# # # # \n",
      "# # # # # \n",
      "# # # # # # \n",
      "# # # # # # # \n",
      "# # # # # # # # \n",
      "# # # # # # # \n",
      "# # # # # # \n",
      "# # # # # \n",
      "# # # # \n",
      "# # # \n",
      "# # \n",
      "# \n"
     ]
    }
   ],
   "source": [
    "rows=int(input('please enter rows'))\n",
    "for i in range(1,rows+1):\n",
    "    for j in range(1,i+1):\n",
    "        print('#',end=' ')\n",
    "    print()\n",
    "for k in range(rows+1,0,-1):\n",
    "    for l in range(1,k+1):\n",
    "        print('#',end=' ')\n",
    "    print()"
   ]
  },
  {
   "cell_type": "code",
   "execution_count": 113,
   "id": "7cbadfd4-7c8a-435c-89a6-bfb96d48b0d3",
   "metadata": {},
   "outputs": [
    {
     "name": "stdin",
     "output_type": "stream",
     "text": [
      "please enter rows 5\n"
     ]
    },
    {
     "name": "stdout",
     "output_type": "stream",
     "text": [
      "        # \n",
      "      # # # \n",
      "    # # # # # \n",
      "  # # # # # # # \n",
      "# # # # # # # # # \n",
      "# # # # # # # # # \n",
      "  # # # # # # # \n",
      "    # # # # # \n",
      "      # # # \n",
      "        # \n"
     ]
    }
   ],
   "source": [
    "rows=int(input('please enter rows'))\n",
    "for i in range(1,rows+1):\n",
    "    for j in range(rows-i):\n",
    "        print(' ',end=' ')\n",
    "    for k in range(1,i*2):\n",
    "        print('#',end=' ')\n",
    "    print()\n",
    "for l in range(rows,0,-1):\n",
    "    for m in range(rows-l):\n",
    "        print(' ',end=' ')\n",
    "    for n in range(2*l-1):\n",
    "        print('#',end=' ')\n",
    "    print()"
   ]
  },
  {
   "cell_type": "code",
   "execution_count": null,
   "id": "1f61760c-cf39-4139-a5f6-2bc087d26857",
   "metadata": {},
   "outputs": [],
   "source": []
  }
 ],
 "metadata": {
  "kernelspec": {
   "display_name": "Python 3 (ipykernel)",
   "language": "python",
   "name": "python3"
  },
  "language_info": {
   "codemirror_mode": {
    "name": "ipython",
    "version": 3
   },
   "file_extension": ".py",
   "mimetype": "text/x-python",
   "name": "python",
   "nbconvert_exporter": "python",
   "pygments_lexer": "ipython3",
   "version": "3.12.4"
  }
 },
 "nbformat": 4,
 "nbformat_minor": 5
}
